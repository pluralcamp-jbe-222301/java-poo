{
 "cells": [
  {
   "cell_type": "markdown",
   "id": "d18d7501-4851-4aa5-8f71-99ebc38a3148",
   "metadata": {},
   "source": [
    "# Lab: Animals "
   ]
  },
  {
   "cell_type": "markdown",
   "id": "77fd0212-bb61-4ab6-9f02-570c1fedf19f",
   "metadata": {},
   "source": [
    "A la naturalesa hi ha molts tipus d'animals, des de gats fins a bacteris, passant per peixos o ocells."
   ]
  },
  {
   "cell_type": "markdown",
   "id": "f6e904dd-a5d4-47ad-b65c-f213e60bd9cc",
   "metadata": {},
   "source": [
    "Tots els animals tenen en comú certes coses (mengen, dormen -o descansen-, es reprodueixen, es mouen -o desplacen-, etc.) i altres coses en què difereixen (per exemple: els gats salten, però els peixos no)."
   ]
  },
  {
   "cell_type": "markdown",
   "id": "888d2c91-49a1-46de-9281-5f6a49405683",
   "metadata": {},
   "source": [
    "***\n",
    "Crea un nou projecte Java a vscode, anomenat **LabAnimals**. Aquest projecte et serveix per a fer una petita aplicació Java que compleixi els següents requeriments:"
   ]
  },
  {
   "cell_type": "markdown",
   "id": "8008fa90-33a5-4048-97bb-0ef9399df8e9",
   "metadata": {},
   "source": [
    "## Fase 1\n",
    "\n",
    "- Crea una classe amb el nom App, que tindrà el punt d'entrada a l'aplicació, és a dir, el mètode main().\n",
    "- Crea una classe que representi un gat, que es pot anomenar Gat o Cat.\n",
    "- Crea una classe que representi una ànec.\n",
    "- Crea una classe que representi una vaca.\n",
    "- Crea una classe que representi un bacteri.\n",
    "\n",
    "Un cop creades aquestes classes, pensa 3 atributs i 3 mètodes per a cadascuna (els mètodes no poden ser els setters, ni els getters ni els constructors). Per exemple, per a la classe Cat podríem crear un mètode anomenat ```camina()``` (es desplaça) i un atribut anomenat ```pes``` (el pes en kilograms, representat per un double)."
   ]
  },
  {
   "cell_type": "markdown",
   "id": "419cc1e6-6906-4edb-ad62-258f2e895d29",
   "metadata": {},
   "source": [
    "Des del main() instancia un objecte de cada classe i fes que executi algun dels mètodes. Per exemple:\n",
    "\n",
    "```java\n",
    "Cat cat = new Cat();\n",
    "cat.camina();\n",
    "```"
   ]
  },
  {
   "cell_type": "markdown",
   "id": "a1cf985a-3ff7-4263-ae8c-0c6459185792",
   "metadata": {},
   "source": [
    "_Nota_: per a que es vegi que cada mètode és cridat o executat, posa-hi dins del mètode un ```System.out.println()``` que informi per pantalla que el mètode ha estat cridat. Per exemple:\n",
    "\n",
    "```java\n",
    "public void camina(){\n",
    "    System.out.println(\"Gat caminant...\");\n",
    "}\n",
    "```"
   ]
  },
  {
   "cell_type": "markdown",
   "id": "bdaf25d2-3fcc-4538-b028-2c1337451a05",
   "metadata": {},
   "source": [
    "## Fase 2\n",
    "\n",
    "- Pensa quins dels mètodes i atributs, que has posat a cada classe, són atributs o mètodes que **són comuns a totes les classes**. **GENERALITZA** i crea una superclasse anomenada ```Animal```. Mou els mètodes i atributs comuns a la superclasse.\n",
    "- Al mètode main(), els objectes que has creat a la fase 1, i abans de cridar qualsevol mètode, els has de posar en un array d'animals. Recorre l'array amb un bucle i crida un mètode (el que vulguis). S'ha de veure per pantalla el mètode cridat i el tipus d'animal que el crida."
   ]
  },
  {
   "cell_type": "markdown",
   "id": "b82ecee2-d480-402e-abe5-0521c4e4a91d",
   "metadata": {},
   "source": [
    "## Fase 3\n",
    "\n",
    "- Crea una interfície anomenada ```Speakable``` que tindrà dos mètodes:\n",
    "    * Un mètode abstracte anomenat ```makeSound()```.\n",
    "    * Un mètode _default_ anomenat ```organ()```, amb la següent implementació:\n",
    "    \n",
    "    ```java\n",
    "    System.out.println(\"Parlo per la boca\");\n",
    "    ```\n",
    "- Fes que els animals que fan algun tipus de sò (tots menys la bactèria) implementin la interfície ```Speakable```. Cada animal farà un sò diferent, que mostrareu per pantalla.\n",
    "- Crea un altre array al mètode main(), de tipus _Speakable_. Omple'l com a mínim amb un gat, un ànec i una vaca. Fes un bucle que recorri l'array i executi els dos mètodes de la interfície."
   ]
  },
  {
   "cell_type": "code",
   "execution_count": null,
   "id": "16e51ed5-679b-4b49-a64a-f8ff3376a29f",
   "metadata": {},
   "outputs": [],
   "source": []
  }
 ],
 "metadata": {
  "kernelspec": {
   "display_name": "Java 11",
   "language": "java",
   "name": "java"
  },
  "language_info": {
   "codemirror_mode": "java",
   "file_extension": ".jshell",
   "mimetype": "text/x-java-source",
   "name": "Java",
   "pygments_lexer": "java",
   "version": "11.0.11+9-Ubuntu-0ubuntu2.20.04"
  }
 },
 "nbformat": 4,
 "nbformat_minor": 5
}
