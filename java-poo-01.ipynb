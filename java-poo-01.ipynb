{
 "cells": [
  {
   "cell_type": "code",
   "execution_count": 3,
   "id": "561f39ab-f3ba-4b70-8aa7-29c2f81673f6",
   "metadata": {},
   "outputs": [
    {
     "name": "stdout",
     "output_type": "stream",
     "text": [
      "Nota máxima de esta Aula: 9.9\n",
      "Nota máxima de esta Aula: 9.1\n",
      "Nota máxima de esta Aula: 9.0\n",
      "\n",
      "Nota mínima de esta Aula: 3.8\n",
      "Nota mínima de esta Aula: 3.8\n",
      "Nota mínima de esta Aula: 3.7\n"
     ]
    }
   ],
   "source": [
    "double[] notas1 = {7.6, 5.5, 9.7, 4.1, 6.6, 5.1, 3.8, 8.6, 9.9, 5.0};//Aula 1\n",
    "\n",
    "double[] notas2 = {5.0, 4.5, 6.2, 4.9, 7.2, 8.4, 6.5, 3.8, 9.1, 5.7};//Aula 2\n",
    "\n",
    "double[] notas3 = {4.5, 6.8, 6.3, 7.9, 7.1, 3.7, 6.0, 9.0, 8.9, 7.3};//Aula 3\n",
    "\n",
    "//LAS CLASSE NO SON NADA MASQUE BLOQUES DE CÓDIGO CON NOMBRE, MAS GENERALES\n",
    "//QUE LOS BLOQUES DE CODIGO DE LA FUNCIONES.\n",
    "//cuando se meten las funciones dentro de una classe\n",
    "//se suelen llamar MÉTODOS\n",
    "//EN JAVA: TODAS LAS FUNCIONES SON METODOS\n",
    "class Notas {\n",
    "\n",
    "    static void notaMaxima(double[] cualificaciones) { //Defino la funcion PERO no la estoy usando\n",
    "        double max = cualificaciones[0];\n",
    "        for(int index = 1; index < cualificaciones.length; index++)\n",
    "            if(cualificaciones[index] > max)\n",
    "                max = cualificaciones[index];\n",
    "        println(\"Nota máxima de esta Aula: \" + max);\n",
    "    }\n",
    "\n",
    "    static void notaMinima(double[] cualificaciones) { //Defino la funcion PERO no la estoy usando\n",
    "        double min = cualificaciones[0];\n",
    "        for(int index = 1; index < cualificaciones.length; index++)\n",
    "            if(cualificaciones[index] < min)\n",
    "                min = cualificaciones[index];\n",
    "        println(\"Nota mínima de esta Aula: \" + min);\n",
    "    }    \n",
    "}\n",
    "\n",
    "//LLAMO A LA FUNCIÓN notaMaxima\n",
    "//for(int i = 1; i <= 15; i++)\n",
    "Notas.notaMaxima(notas1);\n",
    "Notas.notaMaxima(notas2);\n",
    "Notas.notaMaxima(notas3);\n",
    "println(\"\");\n",
    "Notas.notaMinima(notas1);\n",
    "Notas.notaMinima(notas2);\n",
    "Notas.notaMinima(notas3);\n",
    "\n",
    "//SI QUIERO LLAMAR A UN METODO USANDO EL NOMBRE\n",
    "//DE LA CLASSE, ES OBLIGATORIO QUE EL METODO\n",
    "//SEA ESTATICO (static)\n",
    "\n",
    "//Gestionar las notas -> tendrá sus funciones especificas para cada requisito 6\n",
    "//Gestionar la asistencia 7\n",
    "//... los cursos 5\n",
    "//... las asignaturas 7\n",
    "//... la matriculas 4\n",
    "//... los alumnos 8\n",
    "//... los profesores 9\n",
    "//... las aulas 3"
   ]
  }
 ],
 "metadata": {
  "kernelspec": {
   "display_name": "Java",
   "language": "java",
   "name": "java"
  },
  "language_info": {
   "codemirror_mode": "java",
   "file_extension": ".jshell",
   "mimetype": "text/x-java-source",
   "name": "Java",
   "pygments_lexer": "java",
   "version": "11.0.17+8-LTS"
  }
 },
 "nbformat": 4,
 "nbformat_minor": 5
}
