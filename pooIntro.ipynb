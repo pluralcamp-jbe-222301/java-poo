{
 "cells": [
  {
   "cell_type": "markdown",
   "id": "5df3044c",
   "metadata": {},
   "source": [
    "Author: Oriol Boix Anfosso"
   ]
  },
  {
   "cell_type": "markdown",
   "id": "12261210",
   "metadata": {},
   "source": [
    "# Java: Introducció a la POO\n",
    "\n",
    "- Classes i objectes\n",
    "- Visibilitats pública i privada\n",
    "- Getters i setters\n",
    "- Constructors\n",
    "- Variables d'instància i de classe\n",
    "- Mètodes i mètodes estàtics\n",
    "- Tipus de dades referència\n",
    "- Herència\n",
    "- Paquets\n",
    "- imports\n",
    "- Mòduls\n",
    "- Visibilitats protegida i per defecte\n",
    "- Classes abstractes\n",
    "- Interfícies\n",
    "- Polimorfisme"
   ]
  },
  {
   "cell_type": "markdown",
   "id": "6bdee312",
   "metadata": {},
   "source": [
    "## Classes i objectes"
   ]
  },
  {
   "cell_type": "markdown",
   "id": "c607c337",
   "metadata": {},
   "source": [
    "Les classes són blocs de codi que agrupen atributs i mètodes.\n",
    "\n",
    "Les classes són plantilles que poden representar objectes del món real, com persones, coets, taules, comptes bancaris, vacances, vaixells, etc...\n",
    "\n",
    "Cada classe definida en el nostre programa o predefinida en una llibreria de classes, **posa a la nostra disposició un nou tipus de dada** (no primitiu), de tipus **referència**:\n",
    "\n",
    "> A la variable declarada amb aquest nou tipus de dada s'hi guardarà una referència, és a dir,  l'adreça de memòria on estarà guardat l'objecte.\n",
    "\n",
    "Els valors que poden guardar les variables declarades amb el nou tipus de dada (de la classe creada) són els **objectes** o **instàncies** de la classe, que es creen amb la paraula clau ```new```.\n",
    "\n",
    "> Cada objecte creat amb ```new``` serà un cas concret d'allò que la classe representa. \n",
    "\n",
    "Per exemple, si una classe representa una plantilla per a una persona (```class Person{}```) un objecte d'aquesta classe serà un exemple particular d'una persona en concret (el Josep, la Maria, etc.)."
   ]
  },
  {
   "cell_type": "code",
   "execution_count": 3,
   "id": "85d59874",
   "metadata": {
    "ExecuteTime": {
     "end_time": "2021-10-11T19:05+0000",
     "start_time": "2021-10-11T19:05:38.927Z"
    }
   },
   "outputs": [
    {
     "name": "stdout",
     "output_type": "stream",
     "text": [
      "Josep diu: M'agrada Java\n",
      "Josep crida: PROGRAMO TOTA LA NIT!!!\n",
      "Josep dorm: ZZZZzzzzzzzzzzzzzzz.....\n",
      "\n",
      "Laura diu: M'agrada Star Trek\n",
      "Laura crida: VULL EXPLORAR L'UNIVERS\n",
      "Laura dorm: ZZZZzzzzzzzzzzzzzzz.....\n"
     ]
    }
   ],
   "source": [
    "class Person {\n",
    "    //Atributs (defineixen l'ESTAT de l'objecte)\n",
    "    String nom;\n",
    "    String dni;\n",
    "    int edat;\n",
    "    \n",
    "    //Mètodes (defineixen el COMPORTAMENT de l'objecte)\n",
    "    void parla(String missatge){\n",
    "        System.out.println(nom + \" diu: \" + missatge);\n",
    "    }\n",
    "    \n",
    "    void crida(String missatge){\n",
    "        System.out.println(nom + \" crida: \" + missatge.toUpperCase());\n",
    "    }\n",
    "    void dorm(){\n",
    "        System.out.println(nom + \" dorm: \" + \"ZZZZzzzzzzzzzzzzzzz.....\");\n",
    "    }        \n",
    "}\n",
    "\n",
    "//nous objectes de tipus Person que es carreguen a la memòria heap\n",
    "Person persona1 = new Person(); \n",
    "Person persona2 = new Person();\n",
    "\n",
    "//A les variables persona1 i persona2 no es guarden els objectes en sí, \n",
    "//es guarden les referències (adreces de memòria on estan els objectes)\n",
    "\n",
    "//Donem valors als atributs:\n",
    "persona1.nom = \"Josep\";\n",
    "persona2.nom = \"Laura\";\n",
    "\n",
    "persona1.parla(\"M'agrada Java\");\n",
    "persona1.crida(\"Programo tota la nit!!!\");\n",
    "persona1.dorm();\n",
    "println(\"\");\n",
    "persona2.parla(\"M'agrada Star Trek\");\n",
    "persona2.crida(\"Vull explorar l'Univers\");\n",
    "persona2.dorm();\n"
   ]
  },
  {
   "cell_type": "markdown",
   "id": "5d4598ba",
   "metadata": {},
   "source": [
    "## Visibilitats pública i privada\n",
    "\n",
    "Tant els atributs d'una classe, com els seus mètodes, com les classes en sí mateixes, **poden ser accessibles o no des d'altres parts del programa**.\n",
    "\n",
    "> Perquè un element (atribut, classe, mètode...) **sigui accessible des de qualsevol part del nostre programa**, cal donar-li el modificador de visibilitat ```public```.\n",
    "\n",
    "> Des de la versió Java 9 la visibilitat pública s'ha d'aplicar al concepte de mòduls, i per tant la visibilitat ```public``` serà restringida només  a aquells mòduls amb els que estem treballant.\n",
    "\n",
    "> Si volem que el nostre atribut o mètode **no** sigui accessible des de fora de la mateixa classe on estan declarats o definits, els afegirem el modificador de visibilitat ```private```.\n",
    "\n",
    "> També hi ha les visibilitats _protected_ i _default_, de les que en parlem més endavant."
   ]
  },
  {
   "cell_type": "code",
   "execution_count": null,
   "id": "1102de50",
   "metadata": {
    "ExecuteTime": {
     "end_time": "2021-10-11T19:19+0000",
     "start_time": "2021-10-11T19:19:11.888Z"
    }
   },
   "outputs": [],
   "source": [
    "public class Person {\n",
    "    //Atributs (defineixen l'estat de l'objecte)\n",
    "    private String nom;\n",
    "    private String dni;\n",
    "    private int edat;\n",
    "    \n",
    "    //Mètodes (defineixen el comportament de l'objecte)\n",
    "    public void parla(String missatge){\n",
    "        System.out.println(nom + \" diu: \" + missatge);\n",
    "    }\n",
    "    \n",
    "    public void crida(String missatge){\n",
    "        System.out.println(nom + \" crida: \" + missatge.toUpperCase());\n",
    "    }\n",
    "    public void dorm(){\n",
    "        System.out.println(nom + \" dorm: \" + \"ZZZZzzzzzzzzzzzzzzz.....\");\n",
    "    }        \n",
    "}"
   ]
  },
  {
   "cell_type": "markdown",
   "id": "6bbac717",
   "metadata": {},
   "source": [
    "> En la majoria dels casos i si no hi ha un clar motiu pel contrari, **els atributs d'una classe seran privats**. A mesura que avancem en el curs, descobrireu per què això és així i aprendreu un concepte de programació important que hi està relacionat i que s'anomena **encapsulació**.\n",
    "\n",
    "> De mètodes n'hi poden haver tant de públics com de privats.\n",
    "\n",
    "> Els mètodes públics representen **el comportament** que poden tenir les instàncies de la classe, és a dir, **què poden fer**.\n",
    "\n",
    "> Els mètodes privats són també anomenats mètodes utilitaris o _helpers_ i només tenen la finalitat d'estructurar millor el codi dins d'una classe, però no representen cap comportament addicional ni són accessibles ni visibles des de fora.\n",
    "\n",
    "Segons el disseny de la nostra aplicació o programa, també hi haurà casos (poquets, però en poden haver) en que hi hagi atributs públics. "
   ]
  },
  {
   "cell_type": "markdown",
   "id": "7e40dd07-90fc-4efb-a14c-91b6df70233e",
   "metadata": {},
   "source": [
    "### Classes Top-level"
   ]
  },
  {
   "cell_type": "markdown",
   "id": "150f680f-1a07-4392-bbd8-1eb44edece79",
   "metadata": {},
   "source": [
    "Un fitxer java pot tenir tantes classes com vulgui, però només una pot ser **pública**. En aquest cas, **el fitxer ha de tenir per nom el mateix nom de la classe**.\n",
    "\n",
    "Les classes **top-level** són les que compleixen el següent:\n",
    "\n",
    "> Estan al primer nivell dins d'un fitxer (**no estan anidades dins d'una altra classe**).\n",
    "\n",
    "> Una classe top-level només pot tenir visibilitat pública o default-package.\n",
    "\n",
    "**Pot haver varies classes top-level a dins d'un fitxer java, però només una pot tenir visibilitat pública** (les altres hauran de ser default-package).\n",
    "\n",
    "També poden haver varies classes anidades dins d'un fitxer java."
   ]
  },
  {
   "cell_type": "markdown",
   "id": "74f34101",
   "metadata": {},
   "source": [
    "## Getters i setters"
   ]
  },
  {
   "cell_type": "markdown",
   "id": "16c6f090",
   "metadata": {},
   "source": [
    "Si els atributs són privats, ja no podrem fer:\n",
    "\n",
    "```java\n",
    "persona1.nom = \"Josep\";\n",
    "persona2.nom = \"Laura\";\n",
    "```\n",
    "\n",
    "perquè hi estem intentant accedir des de fora de la classe, i no està permès.\n",
    "\n",
    "En aquests casos, caldrà definir uns mètodes especials anomenats _getters_ i _setters_. Veiem un exemple:"
   ]
  },
  {
   "cell_type": "code",
   "execution_count": null,
   "id": "05910a1d",
   "metadata": {
    "ExecuteTime": {
     "end_time": "2021-10-11T19:35+0000",
     "start_time": "2021-10-11T19:35:32.160Z"
    }
   },
   "outputs": [],
   "source": [
    "public class Person {\n",
    "    //Atributs (defineixen l'estat de l'objecte)\n",
    "    private String nom;\n",
    "    private String dni;\n",
    "    private int edat;\n",
    "    \n",
    "    //Getters    \n",
    "    public String getNom(){\n",
    "        return this.nom;\n",
    "    }\n",
    "    public String getDni(){\n",
    "        return this.dni;\n",
    "    }\n",
    "    public int getEdat(){\n",
    "        return this.edat;\n",
    "    }\n",
    "    \n",
    "    //Setters\n",
    "    public void setNom(String nom){\n",
    "        this.nom = nom;\n",
    "    }\n",
    "    public void setDni(String dni){\n",
    "        this.dni = dni;\n",
    "    }\n",
    "    public void setEdat(int edat){\n",
    "        this.edat = edat;\n",
    "    }\n",
    "    \n",
    "    //Mètodes (defineixen el comportament de l'objecte)\n",
    "    public void parla(String missatge){\n",
    "        System.out.println(nom + \" diu: \" + missatge);\n",
    "    }\n",
    "    \n",
    "    public void crida(String missatge){\n",
    "        System.out.println(nom + \" crida: \" + missatge.toUpperCase());\n",
    "    }\n",
    "    public void dorm(){\n",
    "        System.out.println(nom + \" dorm: \" + \"ZZZZzzzzzzzzzzzzzzz.....\");\n",
    "    }        \n",
    "}"
   ]
  },
  {
   "cell_type": "code",
   "execution_count": null,
   "id": "0c96463b",
   "metadata": {
    "ExecuteTime": {
     "end_time": "2021-10-11T19:37+0000",
     "start_time": "2021-10-11T19:37:33.792Z"
    }
   },
   "outputs": [],
   "source": [
    "Person persona1 = new Person(); \n",
    "Person persona2 = new Person();\n",
    "\n",
    "//Donem valors als atributs:\n",
    "persona1.setNom(\"Josep\");\n",
    "persona2.setNom(\"Laura\");\n",
    "\n",
    "System.out.println(\"Persona1 nom és: \" + persona1.getNom());\n",
    "System.out.println(\"Persona2 nom és: \" + persona2.getNom());"
   ]
  },
  {
   "cell_type": "markdown",
   "id": "6d6905b4",
   "metadata": {},
   "source": [
    "## Constructors\n",
    "\n",
    "Els contructors són un tipus especial de mètode que tota classe té. Serveixen per a crear (o construir) nous objectes de la classe, amb la paraula clau ```new```.\n",
    "\n",
    "> Tota classe té un constructor per defecte, encara que NO n'escribim cap. **El constructor per defecte no té cap paràmetre**.\n",
    "\n",
    "> El constructor per defecte **només existeix si no n'escribim cap**. Si n'afegim un a la classe, de constructor, de forma explícita, el constructor per defecte desapareix.\n",
    "\n",
    "> Es poden crear zero, un o molts constructors. Si no en creem cap, hi haurà el constructor per defecte.\n",
    "\n",
    "> Els contructors es poden fer servir per a **inicialitzar cada instància creada amb valors inicials** per als atributs de la classe. \n",
    "\n",
    "Exemples:"
   ]
  },
  {
   "cell_type": "code",
   "execution_count": 1,
   "id": "9dc5fa7b",
   "metadata": {
    "ExecuteTime": {
     "end_time": "2021-10-12T17:25+0000",
     "start_time": "2021-10-12T17:25:25.778Z"
    }
   },
   "outputs": [],
   "source": [
    "//Classe Person que només té el constructor per defecte\n",
    "\n",
    "public class Person {\n",
    "    private String nom;\n",
    "    private String dni;\n",
    "    private int edat;\n",
    "}\n",
    "\n",
    "//Fem ús del construtor per defecte per a crear\n",
    "//un nou objecte de tipus Person\n",
    "Person person1 = new Person();"
   ]
  },
  {
   "cell_type": "code",
   "execution_count": 5,
   "id": "4b536d5c",
   "metadata": {},
   "outputs": [
    {
     "name": "stdout",
     "output_type": "stream",
     "text": [
      "Laura\n"
     ]
    }
   ],
   "source": [
    "//Classe Person amb un constructor explícit\n",
    "\n",
    "public class Person {\n",
    "    private String nom;\n",
    "    private String dni;\n",
    "    private int edat;\n",
    "    \n",
    "    //Constructor\n",
    "    public Person(String nom){\n",
    "        this.nom = nom;\n",
    "    }\n",
    "    \n",
    "    //Getter\n",
    "    public String getNom(){\n",
    "        return this.nom;\n",
    "    }\n",
    "}\n",
    "\n",
    "//Usem el constructor definit explícitament per a crear un nou objecte\n",
    "Person person2 = new Person(\"Laura\");\n",
    "println(person2.getNom());\n",
    "\n",
    "//Si fem ús del construtor per defecte per a crear\n",
    "//un nou objecte de tipus Person, ens donarà error\n",
    "//(Ja no existeix)\n",
    "//Person person1 = new Person();"
   ]
  },
  {
   "cell_type": "code",
   "execution_count": 7,
   "id": "3479a2f2-40a8-4354-94cd-06fded3be79d",
   "metadata": {},
   "outputs": [
    {
     "name": "stdout",
     "output_type": "stream",
     "text": [
      "Persona 2 - Nom: Laura\n",
      "Persona 3 - Nom: Josep\n",
      "Persona 3 - Dni: 12345678J\n"
     ]
    }
   ],
   "source": [
    "//Classe Person amb tres constructor explícits\n",
    "\n",
    "public class Person {\n",
    "    private String nom;\n",
    "    private String dni;\n",
    "    private int edat;\n",
    "    \n",
    "    //Constructor 1\n",
    "    public Person(){}\n",
    "    \n",
    "    //Constructor 2\n",
    "    public Person(String nom){\n",
    "        this.nom = nom;\n",
    "    }\n",
    "    \n",
    "    //Constructor 3\n",
    "    public Person(String nom, String dni){\n",
    "        this.nom = nom;\n",
    "        this.dni = dni;\n",
    "    }\n",
    "    \n",
    "    //Getter\n",
    "    public String getNom(){\n",
    "        return this.nom;\n",
    "    }\n",
    "    public String getDni(){\n",
    "        return this.dni;\n",
    "    }\n",
    "}\n",
    "\n",
    "//Usem el constructor 0\n",
    "//(en aquest cas caldria definir setters i usar-los\n",
    "//per a establir valors als atributs)\n",
    "Person person1 = new Person();\n",
    "\n",
    "//Usem el constructor 1 \n",
    "Person person2 = new Person(\"Laura\");\n",
    "println(\"Persona 2 - Nom: \" + person2.getNom());\n",
    "\n",
    "//Usem el constructor 2\n",
    "Person person3 = new Person(\"Josep\", \"12345678J\");\n",
    "println(\"Persona 3 - Nom: \" + person3.getNom());\n",
    "println(\"Persona 3 - Dni: \" + person3.getDni());"
   ]
  },
  {
   "cell_type": "markdown",
   "id": "a9e95ce7-ee04-44c7-bbc0-d2dcfb83e549",
   "metadata": {},
   "source": [
    "> En cas que hi hagi diferents constructors, podrem usar el que vulguem o necessitem en cada moment.\n",
    "\n",
    "> Quan un mètode (qualsevol), com ara pot ser un constructor, apareix definit varies vegades, direm que **hi ha una sobrecàrrega** d'aquell mètode. **Les diferents sobrecàrregues es diferencien pel nombre i / o tipus de paràmetres que tenen**.\n",
    "\n",
    "Per exemple, la següent sobrecàrrega del constructor de Person **no seria vàlid** perquè tenen el mateix tipus (String) de paràmetre i nombre de paràmetres (un):\n",
    "\n",
    "```java\n",
    "//Constructor 1\n",
    "public Person(String nom){\n",
    "    this.nom = nom;\n",
    "}\n",
    "\n",
    "//Constructor 2 (NO VÀLID!!!)\n",
    "public Person(String dni){\n",
    "    this.dni = dni;\n",
    "}\n",
    "```"
   ]
  },
  {
   "cell_type": "markdown",
   "id": "83d6b285-411d-493a-b44d-39cacf4a07f2",
   "metadata": {},
   "source": [
    "## Variables d'instància i de classe"
   ]
  },
  {
   "cell_type": "markdown",
   "id": "c02da87f-c822-49a2-b0da-277439412c5d",
   "metadata": {},
   "source": [
    "Els atributs _normals_ que definim en una classe són **variables d'instància**: perquè els seus valors estan associats a un objecte o instància en concret, i canvien d'un objecte a un altre.\n",
    "\n",
    "Per exemple:"
   ]
  },
  {
   "cell_type": "code",
   "execution_count": 7,
   "id": "9a5ae62f-180d-409c-b4b2-8107943bc3f4",
   "metadata": {},
   "outputs": [
    {
     "name": "stdout",
     "output_type": "stream",
     "text": [
      "Anna\n",
      "Jordi\n"
     ]
    }
   ],
   "source": [
    "public class Person {\n",
    "    private String nom;\n",
    "\n",
    "    public Person(String nom){\n",
    "        this.nom = nom;\n",
    "    }\n",
    "    \n",
    "    public String getNom(){\n",
    "        return this.nom;\n",
    "    }\n",
    "}\n",
    "\n",
    "Person p1 = new Person(\"Anna\");\n",
    "Person p2 = new Person(\"Jordi\");\n",
    "\n",
    "//L'atribut nom de la classe person és una variable d'instància\n",
    "//doncs té un valor diferent per a cada instància p1 i p2:\n",
    "println(p1.getNom());\n",
    "println(p2.getNom());\n",
    "    "
   ]
  },
  {
   "cell_type": "markdown",
   "id": "3dbe6d0a-beba-44f3-b13e-5e445363d009",
   "metadata": {},
   "source": [
    "> En canvi, diem que un atribut és una **variable de classe** quan el valor que tingui (sigui quin sigui en cada moment) **és compartit per totes les instàncies o objectes**.\n",
    "\n",
    "> Una variable de classe pot ésser inicialitzada (assignar-li un valor) **sense necessitat de crear cap instància** de la classe.\n",
    "\n",
    "> Una variable de classe es declara amb la paraula clau ```static```.\n",
    "\n",
    "Exemple:"
   ]
  },
  {
   "cell_type": "code",
   "execution_count": 4,
   "id": "4da777df-669f-4a67-b252-06840fdb1cbf",
   "metadata": {},
   "outputs": [
    {
     "name": "stdout",
     "output_type": "stream",
     "text": [
      "Persones creades fins ara: 1\n",
      "Persones creades fins ara: 2 (des de person1)\n",
      "Persones creades fins ara: 2 (des de person2)\n",
      "Persones creades fins ara: 2 (des de la classe Person)\n"
     ]
    }
   ],
   "source": [
    "public class Person {\n",
    "    //variable de classe que guardarà quantes\n",
    "    //instàncies de persones s'han creat\n",
    "    //de forma acumulada al llarg del programa\n",
    "    public static int quantitatDePersones = 0;\n",
    "    \n",
    "    private String nom;\n",
    "\n",
    "    public Person(String nom){\n",
    "        this.nom = nom;\n",
    "        quantitatDePersones++;\n",
    "    }\n",
    "    \n",
    "    public String getNom(){\n",
    "        return this.nom;\n",
    "    }\n",
    "}\n",
    "\n",
    "Person person1 = new Person(\"Laura\");\n",
    "println(\"Persones creades fins ara: \" + person1.quantitatDePersones);\n",
    "Person person2 = new Person(\"Josep\");\n",
    "\n",
    "//La variable de classe té un valor compartit i igual per tots els objectes\n",
    "println(\"Persones creades fins ara: \" + person1.quantitatDePersones + \" (des de person1)\");\n",
    "println(\"Persones creades fins ara: \" + person2.quantitatDePersones + \" (des de person2)\");\n",
    "\n",
    "//La variable de classe es pot accedir directament des de la classe\n",
    "println(\"Persones creades fins ara: \" + Person.quantitatDePersones+ \" (des de la classe Person)\");\n",
    "\n",
    "//Si executeu repetidament aquesta cel·la del notebook, observareu com va\n",
    "//augmentant el número d'instàncies de Person creades"
   ]
  },
  {
   "cell_type": "markdown",
   "id": "d71fb12f-abf7-4e49-9ef4-71f58340817b",
   "metadata": {},
   "source": [
    "# Mètodes i mètodes estàtics\n",
    "\n",
    "Igual que amb els atributs, també poden haver-hi mètodes _estàtics_ (posant ```static``` al davant).\n",
    "\n",
    "> Un mètode estàtic es pot cridar directament des de la classe, no cal fer-ho des d'una instància o objecte en particular (tot i que també es pot cridar des d'un objecte - tot i que no és recomanable).\n",
    "\n",
    "Exemple:"
   ]
  },
  {
   "cell_type": "code",
   "execution_count": 5,
   "id": "50f54857-eee3-4157-be95-1996c980efba",
   "metadata": {},
   "outputs": [
    {
     "name": "stdout",
     "output_type": "stream",
     "text": [
      "Suma: 20\n",
      "Resta: 10\n",
      "Multiplicació: 75\n",
      "Divisio: 3\n",
      "Divisio per 0: 0\n"
     ]
    }
   ],
   "source": [
    "class Calculs {\n",
    "\n",
    "    public static int suma(int a, int b){\n",
    "        return a + b;\n",
    "    }\n",
    "    \n",
    "    public static int resta(int a, int b){\n",
    "        return a - b;\n",
    "    }\n",
    "\n",
    "    public static int multiplicacio(int a, int b){\n",
    "        return a * b;\n",
    "    }\n",
    "    \n",
    "    public static int divisio(int a, int b){\n",
    "        if(comprova(b))\n",
    "            return a / b;\n",
    "        else\n",
    "            return 0;\n",
    "    }\n",
    "    \n",
    "    private static boolean comprova(int n){\n",
    "        if(n != 0)\n",
    "            return true;\n",
    "        return false;\n",
    "    }\n",
    "    \n",
    "}\n",
    "\n",
    "int n1 = 15, n2 = 5;\n",
    "//Cridem els mètodes de Calculs sense crear\n",
    "//cap instància. Ho fem directament usant\n",
    "//el nom de la classe seguit d'un punt i el \n",
    "//nom del mètode.\n",
    "println(\"Suma: \" + Calculs.suma(n1,n2));\n",
    "println(\"Resta: \" + Calculs.resta(n1,n2));\n",
    "println(\"Multiplicació: \" + Calculs.multiplicacio(n1,n2));\n",
    "println(\"Divisio: \" + Calculs.divisio(n1,n2));\n",
    "\n",
    "//Si intentem dividir per 0, ens retorna 0\n",
    "println(\"Divisio per 0: \" + Calculs.divisio(n1,0));\n",
    "\n",
    "/*\n",
    "* Hem fet tots els càlculs sense crear cap objecte\n",
    "* ja que tots els mètodes (suma, resta, multiplicacio\n",
    "* divisio) són estàtics.\n",
    "*\n",
    "* Hi ha un mètode privat anomenat comprova\n",
    "* que només usem internament dins de la classe\n",
    "* (per això és privat)\n",
    "* Aquest mètode comprova, en ser usat des d'un\n",
    "* mètode estàtic (divisio) TAMBË HA DE SER ESTÀTIC:\n",
    "* \n",
    "* *** Des d'un mètode estàtic només es poden cridar altres\n",
    "* mètodes que també siguin estàtics ***\n",
    "*/"
   ]
  },
  {
   "cell_type": "markdown",
   "id": "f8fd0c3e-e3ea-495a-81c8-188f0fa3f6ca",
   "metadata": {},
   "source": [
    "## Tipus de dades referència"
   ]
  },
  {
   "cell_type": "markdown",
   "id": "9c72324b-d273-4499-87d0-de946d921128",
   "metadata": {},
   "source": [
    "> Totes les classes, creades per nosaltres, per un altre programador o que formin part d'una llibreria de classes, **ens permeten automàticament disposar d'un tipus de dades amb el mateix nom que té la classe**.\n",
    "\n",
    "Per exemple:\n",
    "\n",
    "```java\n",
    "\n",
    "class Person{}\n",
    "//Ens permet declarar variables amb el tipus de dada Person:\n",
    "Person p1, p2, p3;\n",
    "\n",
    "class Coet{}\n",
    "//Ens permet declarar variables amb el tipus de dada Rocket:\n",
    "Coet coet;\n",
    "```"
   ]
  },
  {
   "cell_type": "markdown",
   "id": "8ee38bf7-9e6d-476c-88c9-40c2574d6a7e",
   "metadata": {},
   "source": [
    "En les noves variables declarades només li podrem assignar valors que siguin **objectes** concrets d'aquella classe, és a dir, per exemple:\n",
    "\n",
    "```java\n",
    "p1 = new Person();\n",
    "coet = new Coet();\n",
    "p2 = new Coet(); //Error !!!\n",
    "```"
   ]
  },
  {
   "cell_type": "markdown",
   "id": "75f860d1-10bd-43a4-bd32-45185f14a799",
   "metadata": {},
   "source": [
    "> Així, creant tantes classes com necessitem, disposarem de tants nous tipus de dades com necessitem. \n",
    "\n",
    "> Tots aquests tipus de dades **comencen el seu nom amb una lletra majúscula** (igual que el nom de la classe) en contraposició amb els noms dels tipus de dades primitius, que comencen tots per minúscula (int, double, boolean...)."
   ]
  },
  {
   "cell_type": "markdown",
   "id": "10b05537-3581-4341-a24d-93e7900889ea",
   "metadata": {},
   "source": [
    "> Els tipus de dades que provenen de crear classes són tipus de dades **no primitius** o tipus de dades **referència**. S'anomenen **referència** perquè la variable **no guarda l'objecte en sí** sinó que guarda l'adreça de memòria (_la referència_) on l'objecte està guardat."
   ]
  },
  {
   "cell_type": "markdown",
   "id": "6a6e9635-f044-481b-b9ab-14d733b1383b",
   "metadata": {},
   "source": [
    "### Paràmetres per valor i paràmetres per referència\n",
    "\n",
    "Els paràmetres de tipus de dades primitius que hi hagi en mètodes, seran substituits per **còpies de valors** en cridar els mètodes. \n",
    "\n",
    "> Si el valor passat al mètode en cridar-lo està guardat en una variable externa al mètode, el valor d'aquesta variable externa **no es veurà modificat** encara que dins del mètode es canvïi el valor del paràmetre.\n",
    "\n",
    "Exemple:"
   ]
  },
  {
   "cell_type": "code",
   "execution_count": 19,
   "id": "de859946-b0fc-4ea8-8933-e59b8d295633",
   "metadata": {},
   "outputs": [
    {
     "name": "stdout",
     "output_type": "stream",
     "text": [
      "n abans de cridar el mètode: 1\n",
      "Valor que retorna el mètode: 2\n",
      "n després de cridar el mètode: 1\n"
     ]
    }
   ],
   "source": [
    "int n = 1;\n",
    "int duplica(int a){\n",
    "    //modifiquem a\n",
    "    a = a * 2;\n",
    "    return a;\n",
    "}\n",
    "\n",
    "println(\"n abans de cridar el mètode: \" + n);\n",
    "\n",
    "//Cridem el mètode i passem n\n",
    "//es passarà un CÒPIA del valor de n\n",
    "//(el valor de n romandrà intacte)\n",
    "println(\"Valor que retorna el mètode: \" + duplica(n));\n",
    "\n",
    "println(\"n després de cridar el mètode: \" + n);\n"
   ]
  },
  {
   "cell_type": "markdown",
   "id": "41ec788c-d474-4355-924f-4097be975c27",
   "metadata": {},
   "source": [
    "> En canvi, quan passem una variable d'un tipus de dada **referència** (perquè el mètode té paràmetres de tipus de dades no primitius) no es passa una còpia, sinó que es passa una referència a l'adreça de memòria on està guardat l'objecte, i **qualsevol canvi que es faci a l'objecte dins del mètode també es veurà reflectit en tota variable, externa al mètode, que guardi la mateixa referència**.\n",
    "\n",
    "Exemple:"
   ]
  },
  {
   "cell_type": "code",
   "execution_count": 6,
   "id": "f4e0d9c9-4bbf-4a82-bd08-111de318cabf",
   "metadata": {},
   "outputs": [
    {
     "name": "stdout",
     "output_type": "stream",
     "text": [
      "Abans: 33\n",
      "Després: 34\n"
     ]
    }
   ],
   "source": [
    "class Person{\n",
    "    int age;\n",
    "}\n",
    "\n",
    "Person person = new Person();\n",
    "person.age = 33;\n",
    "\n",
    "void sumaUnAny(Person p){\n",
    "    p.age++;\n",
    "}\n",
    "\n",
    "//Edat de la persona person abans de cridar el mètode\n",
    "println(\"Abans: \" + person.age);\n",
    "//Cridem el mètode (passem una referència amb la variable externa person):\n",
    "sumaUnAny(person);\n",
    "//Edat de la persona person després de cridar el mètode\n",
    "println(\"Després: \" + person.age);"
   ]
  },
  {
   "cell_type": "markdown",
   "id": "15002ea1-3a63-4a1a-b8a8-027a2f489b4e",
   "metadata": {},
   "source": [
    "### Herència"
   ]
  },
  {
   "cell_type": "markdown",
   "id": "bca480c7-d516-48cb-8a46-25b5b59bf726",
   "metadata": {},
   "source": [
    "Hem dit que les classes són plantilles que representen objectes del món real.\n",
    "\n",
    "> Les classes no necessàriament han de representar objectes físics, com ara una taula, un avió, una persona, etc., també poden representar idees o conceptes, com ara una opinió, una cançó, un compte bancari o un partit de bàsquet."
   ]
  },
  {
   "cell_type": "markdown",
   "id": "c9e025fa-9de9-416f-981f-4ac453d18dd9",
   "metadata": {},
   "source": [
    "Entre totes les coses que hi ha al nostre món, podem observar que hi algunes coses **que són un tipus d'una altra cosa**, per exemple:\n",
    "\n",
    "- Un gat és un tipus d'animal.\n",
    "- Un alumne és un tipus de persona.\n",
    "- Una bicicleta és un tipus de vehicle.\n",
    "- Un compte d'estalvi és un tipus de compte bancari.\n",
    "- Matemàtiques o física són tipus de ciències.\n",
    "\n",
    "En Programació Orientada a l'Objecte, representem els objectes que **són un tipus** d'un altre objecte mitjançant el concepte d'**herència**. \n",
    "\n",
    "Posem un **exemple**:"
   ]
  },
  {
   "cell_type": "markdown",
   "id": "b2ae3c0b-75ee-4f4a-801c-9f92dc0d29f6",
   "metadata": {},
   "source": [
    "\n",
    "Volem representar una persona, que té un nom (de moment i per aquest simple exemple, no necessitem que tingui res més):\n",
    "\n",
    "```java\n",
    "public class Person {\n",
    "    private String nom;\n",
    "\n",
    "    public Person(String nom){\n",
    "        this.nom = nom;\n",
    "    }\n",
    "    \n",
    "    public String getNom(){\n",
    "        return this.nom;\n",
    "    }\n",
    "}\n",
    "Person person1 = new Person(\"Laura\");\n",
    "```"
   ]
  },
  {
   "cell_type": "markdown",
   "id": "283209c1-cee3-4154-9039-a93c2efa8dc4",
   "metadata": {},
   "source": [
    "Què fem ara per a representar un **alumne** i un **professor**:\n",
    "\n",
    "- l'alumne ha de tenir un nom i també un atribut que indiqui quin curs està estudiant,\n",
    "- el professor ha de tenir un nom i també hem de saber a quina escola treballa.\n",
    "\n",
    "Tenim 2 opcions:\n",
    "\n",
    "1. Opció 1: Representar alumne i professor de forma independent a persona.\n",
    "2. Opció 2: Dir que alumne i professor són un tipus de persona, i usar herència per a representar-los."
   ]
  },
  {
   "cell_type": "markdown",
   "id": "f40a59b5-e649-480f-aff5-7c5b78e86cf9",
   "metadata": {},
   "source": [
    "**Opció 1** (sense herència)\n",
    "***\n",
    "```java\n",
    "public class Alumne {\n",
    "    private String nom;\n",
    "    private String curs;\n",
    "\n",
    "    public Alumne(String nom, String curs){\n",
    "        this.nom = nom;\n",
    "        this.curs = curs;\n",
    "    }\n",
    "    \n",
    "    public String getNom(){\n",
    "        return this.nom;\n",
    "    }\n",
    "    \n",
    "    public String getCurs(){\n",
    "        return this.curs;\n",
    "    }\n",
    "}\n",
    "Alumne alumne1 = new Alumne(\"Laura\",\"Curs de Java\");\n",
    "```"
   ]
  },
  {
   "cell_type": "markdown",
   "id": "fc4dfba9-f558-4a9c-8d25-76d2d61276a2",
   "metadata": {},
   "source": [
    "```java\n",
    "public class Professor {\n",
    "    private String nom;\n",
    "    private String escola;\n",
    "\n",
    "    public Professor(String nom, String escola){\n",
    "        this.nom = nom;\n",
    "        this.escola = escola;\n",
    "    }\n",
    "    \n",
    "    public String getNom(){\n",
    "        return this.nom;\n",
    "    }\n",
    "    \n",
    "    public String getEscola(){\n",
    "        return this.escola;\n",
    "    }\n",
    "}\n",
    "Professor professor1 = new Professor(\"Oriol\",\"La Guineueta\");\n",
    "```"
   ]
  },
  {
   "cell_type": "markdown",
   "id": "243edc33-247a-4aa4-9884-e7e94a699436",
   "metadata": {},
   "source": [
    "**Opció 2 (amb herència)**\n",
    "***\n"
   ]
  },
  {
   "cell_type": "markdown",
   "id": "86421096-94fc-4583-820c-1204f893c226",
   "metadata": {},
   "source": [
    "```java\n",
    "public class Alumne extends Person {\n",
    "    private String curs;\n",
    "\n",
    "    public Alumne(String nom, String curs){\n",
    "        super(nom);\n",
    "        this.curs = curs;\n",
    "    }\n",
    "       \n",
    "    public String getCurs(){\n",
    "        return this.curs;\n",
    "    }\n",
    "}\n",
    "```\n"
   ]
  },
  {
   "cell_type": "markdown",
   "id": "192b15b0-0a6c-4cf0-9031-70767f266b8c",
   "metadata": {},
   "source": [
    "```java\n",
    "public class Professor extends Person {\n",
    "    private String escola;\n",
    "\n",
    "    public Professor(String nom, String escola){\n",
    "        super(nom);\n",
    "        this.escola = escola;\n",
    "    }\n",
    "    \n",
    "    public String getEscola(){\n",
    "        return this.escola;\n",
    "    }\n",
    "}\n",
    "```"
   ]
  },
  {
   "cell_type": "markdown",
   "id": "c8e8cc42-c255-4823-a866-848c3a54495c",
   "metadata": {},
   "source": [
    "> Alumne i Professor són classes **filles** de Person, ja que són un tipus de persona. Hereden totes les propietats i mètodes de Person, de manera que **des de les classes filles estan disponibles les propietats i mètodes de la superclasse** (en aquest cas, Person).\n",
    "\n",
    "Per aquest motiu, tant a Alumne com a Professor, no ha calgut tornar a escriure la propietat ```nom``` ni els seu corresponent _getter_.\n",
    "\n",
    "> A les classes filles només es posa allò que és propi d'aquella classe, doncs és una **especialització** d'un cas més general. Les coses que són més generals es poden posar a la classe mare/pare (superclasse)."
   ]
  },
  {
   "cell_type": "markdown",
   "id": "b0aaace6-42dc-49f0-b9bd-309bbaf4010e",
   "metadata": {},
   "source": [
    "### Paquets (packages)"
   ]
  },
  {
   "cell_type": "markdown",
   "id": "4eec7ca5-1ed3-4650-ad83-8bb43fbac0aa",
   "metadata": {},
   "source": [
    "> En Java, les classes es posen dins de **packages** (paquets). El nostre programa pots tenir tants paquets com vulguem.\n",
    "\n",
    "Els paquets tenen per finalitat organitzar i agrupar les classes del nostre programa o llibreria que estan relacionades d'alguna manera entre sí."
   ]
  },
  {
   "cell_type": "markdown",
   "id": "71e994f9-62e2-4c3f-acf4-cd4724efdc88",
   "metadata": {},
   "source": [
    "Per exemple, totes les classes que representen la part del nostre programa que extreu i guarda informació d'una base de dades, es podria anomenar **persistence**.\n",
    "\n",
    "> Els paquets han de tenir noms únics, per la qual cosa és un conveni usar com a part del nom del paquet el nom de domini de l'empresa o institució per la que estem treballant, però en ordre invers, seguit d'un nom que sigui descriptiu de quin tipus de classes hi ha dins."
   ]
  },
  {
   "cell_type": "markdown",
   "id": "1d18db61-fc3b-4e1e-8a8b-a7a061c292c1",
   "metadata": {},
   "source": [
    "Així, si la nostra institució té per nom de domini _ilg.cat_, el paquet que agrupa les classes que treballen contra una base de dades en el nostre programa, es podria anomenar:\n",
    "\n",
    "```java\n",
    "package cat.ilg.persistence;\n",
    "```\n",
    "\n",
    "> El paquet és sempre la primera línia de codi en tot fitxer java.\n",
    "\n",
    "Després venen els **imports**, i després ve la definició de la classe."
   ]
  },
  {
   "cell_type": "markdown",
   "id": "ffdb8d1c-98d4-404f-b42d-889e1609a1c3",
   "metadata": {},
   "source": [
    "#### Package per defecte\n",
    "\n",
    "Si no s'indica un paquet en un fitxer java, la classe o classes del fitxer s'ubicaran automàtica a un paquet sense nom, que és el **package per defecte**.\n",
    "\n",
    "> És molt important establir un package de forma explícita, ja que no és possible accedir, des de fora, a cap classe que es trobi dins del package per defecte."
   ]
  },
  {
   "cell_type": "markdown",
   "id": "b5c76485-3272-4092-b3cf-67d6a6d637a7",
   "metadata": {},
   "source": [
    "### Imports"
   ]
  },
  {
   "cell_type": "code",
   "execution_count": 8,
   "id": "ab1213ad-a496-4b97-8e48-1c166474b340",
   "metadata": {},
   "outputs": [],
   "source": [
    "//TODO"
   ]
  },
  {
   "cell_type": "markdown",
   "id": "d6aaa39f-88ff-4faa-8cff-0474a87bfe65",
   "metadata": {},
   "source": [
    "### Mòduls"
   ]
  },
  {
   "cell_type": "code",
   "execution_count": 9,
   "id": "216fbdab-009e-4337-8a97-9cf411e72ee2",
   "metadata": {},
   "outputs": [],
   "source": [
    "//TODO"
   ]
  },
  {
   "cell_type": "markdown",
   "id": "434c3923-de9e-4b91-9351-010c7185974f",
   "metadata": {},
   "source": [
    "### Visibilitats protegida i per defecte"
   ]
  },
  {
   "cell_type": "code",
   "execution_count": 27,
   "id": "cf345ba4-1ccc-44b6-a96e-262f47aa3b55",
   "metadata": {},
   "outputs": [],
   "source": [
    "public class Person {\n",
    "    private String nom;\n",
    "\n",
    "    public Person(String nom){\n",
    "        this.nom = nom;\n",
    "    }\n",
    "    \n",
    "    public String getNom(){\n",
    "        return this.nom;\n",
    "    }\n",
    "}"
   ]
  },
  {
   "cell_type": "code",
   "execution_count": 28,
   "id": "09c44d76-cce8-4edc-a353-d1bdffce6a00",
   "metadata": {},
   "outputs": [],
   "source": [
    "public class Alumne extends Person {\n",
    "    private String curs;\n",
    "\n",
    "    public Alumne(String nom, String curs){\n",
    "        super(nom);\n",
    "        this.curs = curs;\n",
    "    }\n",
    "       \n",
    "    public String getCurs(){\n",
    "        return this.curs;\n",
    "    }\n",
    "}"
   ]
  },
  {
   "cell_type": "code",
   "execution_count": 29,
   "id": "3354509d-4422-476f-9337-3e382eda2487",
   "metadata": {},
   "outputs": [
    {
     "name": "stdout",
     "output_type": "stream",
     "text": [
      "Laura\n"
     ]
    },
    {
     "ename": "CompilationException",
     "evalue": "",
     "output_type": "error",
     "traceback": [
      "\u001b[1m\u001b[30m|   \u001b[1m\u001b[30mprintln(\u001b[0m\u001b[1m\u001b[30m\u001b[41malumne1.nom\u001b[0m\u001b[1m\u001b[30m);\u001b[0m",
      "\u001b[1m\u001b[31mnom has private access in Person\u001b[0m",
      ""
     ]
    }
   ],
   "source": [
    "Alumne alumne1 = new Alumne(\"Laura\",\"Curs de Java\");\n",
    "println(alumne1.getNom());\n",
    "println(alumne1.nom);"
   ]
  },
  {
   "cell_type": "markdown",
   "id": "8df5445e-c5b3-4057-84fb-7be7e7fbbb5e",
   "metadata": {},
   "source": [
    "Si executem les cel·les anteriors ens retorna un error dient: \n",
    "\n",
    "```\n",
    "nom has private access in Person\n",
    "```\n",
    "\n",
    "Això passa perquè **tot i que Alumne hereda de Person, els atributs i mètodes privats de Person NO són visibles fora de Person**, precisament perquè són privats."
   ]
  },
  {
   "cell_type": "markdown",
   "id": "cfae9617-afd3-4803-aed7-a90bf4067cf0",
   "metadata": {},
   "source": [
    "Si volem que que Alumne tingui accés a les propietats i atributs de la superclasse Person, la visibilitat haurà de ser pública (tothom hi té accés) o bé **protected**: \n",
    "\n",
    "> Amb la visibilitat protegida (**protected**), l'accés es restringeix a **totes les classes que es troben al mateix package** (filles o no), però també **a totes les classes filles, independentment de si estan al mateix package o a un altre package**.\n",
    "\n",
    "Proveu de canviar la visibilitat de l'atribut ```nom``` a la classe Person de privada a protegida i executeu de nou tot el codi. Què passa ara? Per què?"
   ]
  },
  {
   "cell_type": "markdown",
   "id": "a9fbbd37-bf29-4473-a620-704930f8068c",
   "metadata": {},
   "source": [
    "> La visibilitat **per defecte** no s'indica amb cap paraula clau, simnplement no es posa cap modificador de visibilitat (public, protected o private). En aquest cas, l'element (atribut o mètode) serà només accessible per les classes que estan al mateix **package**. No serà accessibles o visibles fora del package, per cap classe (ni filla ni no filla)."
   ]
  },
  {
   "cell_type": "markdown",
   "id": "ef5e22a7-8e08-4d8b-acc6-72ea8f1e88b6",
   "metadata": {},
   "source": [
    "**Exemple**: en el següent cas, el nom de l'escola té visibilitat per defecte:\n",
    "\n",
    "```java\n",
    "public class Professor extends Person {\n",
    "    String escola;\n",
    "\n",
    "    public Professor(String nom, String escola){\n",
    "        super(nom);\n",
    "        this.escola = escola;\n",
    "    }\n",
    "}\n",
    "```"
   ]
  },
  {
   "cell_type": "markdown",
   "id": "32eda55d-43ce-4d09-b7e7-2b91a4285584",
   "metadata": {},
   "source": [
    "- Classes abstractes\n",
    "- Interfícies\n",
    "- Polimorfisme"
   ]
  },
  {
   "cell_type": "markdown",
   "id": "0d18c7c1-e82e-4c4c-8c68-808d0a43e6d3",
   "metadata": {},
   "source": [
    "### Classes abstractes"
   ]
  },
  {
   "cell_type": "markdown",
   "id": "40169954-03ed-47bc-b20f-68c4a0dc98b7",
   "metadata": {},
   "source": [
    "Una classe abstracte és una superclasse (és a dir, dissenyada perquè tingui classes filles) que **no es pot instanciar** (no se'n poden crear objectes) i que té per finalitat només **definir característiques generals** (que hauran de complir totes les classes filles)."
   ]
  },
  {
   "cell_type": "markdown",
   "id": "1a9fa91d-d07f-4c9f-8d0b-f537b8bb8fb4",
   "metadata": {},
   "source": [
    "> Una classe abstracta tindrà almenys **un mètode abstracte**. Un mètode abstracte és un mètode que **no té implementació**, és a dir, que només defineix la seva signatura i el valor de retorn.\n",
    "\n",
    "Exemple de mètode abstracte:\n",
    "\n",
    "```java\n",
    "public abstract void eat();\n",
    "```\n",
    "\n",
    "> La implementació dels mètodes abstractes serà proveïda per les classes filles."
   ]
  },
  {
   "cell_type": "markdown",
   "id": "ef8cb1ff-a67e-4096-a99d-aa12ec1c8e8f",
   "metadata": {},
   "source": [
    "> Una classe abstracte pot tenir tant mètodes sense implementació (mètodes abstractes) com mètodes amb implementació.\n",
    "\n",
    "Les classes filles **estan obligades a implementar tots els mètodes abstractes de la superclasse**, i de manera opcional poden sobreescriu (_override_) la implementació per defecte de qualsevol mètode no abstracte que també tingui la superclasse.\n",
    "\n",
    "> L'_overriding_ (sobreescritura) d'un mètode significa que una classe filla reescriu la implementació (del mètode sobreescrit) que hi ha per defecte en la superclasse.\n",
    "\n",
    "Exemple:"
   ]
  },
  {
   "cell_type": "code",
   "execution_count": 7,
   "id": "698a11ab-bc1e-489b-96ad-bcb0bfa6a371",
   "metadata": {},
   "outputs": [],
   "source": [
    "abstract class Person {\n",
    "    \n",
    "    //mètode no abstracte\n",
    "    public void sleep(){\n",
    "        System.out.println(\"ZZzzzzzz....\");\n",
    "    }\n",
    "    \n",
    "    //mètode abstracte\n",
    "    public abstract void eat();\n",
    "}\n",
    "//Les classes filles estan obligades a implementar el mètode eat()"
   ]
  },
  {
   "cell_type": "code",
   "execution_count": 8,
   "id": "dcf80d05-43a9-4c43-985a-b4380ee5a194",
   "metadata": {},
   "outputs": [],
   "source": [
    "//Persona vegetariana\n",
    "class Vegan extends Person {\n",
    "    //Obligatori\n",
    "    @Override\n",
    "    public void eat(){\n",
    "        System.out.println(\"I love brocoli ;)\");\n",
    "    }\n",
    "}"
   ]
  },
  {
   "cell_type": "code",
   "execution_count": 14,
   "id": "0057799a-770b-44b1-adbd-6ed16e5f5bef",
   "metadata": {},
   "outputs": [],
   "source": [
    "//Persona pizzera\n",
    "class PizzaAdict extends Person {\n",
    "    //Obigatori\n",
    "    @Override\n",
    "    public void eat(){\n",
    "        System.out.println(\"I love Pizza !!!!\");\n",
    "    }\n",
    "    \n",
    "    //Opcional\n",
    "    @Override\n",
    "    public void sleep(){ //Els pizzeros ronquen\n",
    "        System.out.println(\"Grrgrrrgrrrrrrrr....\");\n",
    "    }\n",
    "}"
   ]
  },
  {
   "cell_type": "markdown",
   "id": "8d39371b-3cad-40e4-ba88-5299a6943edb",
   "metadata": {},
   "source": [
    "> Els mètodes abstractes no poden ser estàtics i no poden ser privats:\n",
    "\n",
    "```java\n",
    "public static abstract void eat(); //ERROR !!!\n",
    "\n",
    "private abstract void eat(); //ERROR !!!\n",
    "```\n",
    "\n",
    "> Un mètode privat només és visible dins de la seva pròpia classe, i per tant **no pot ser heredat**. Llavors, si fos abstracte, no podria ser sobreescrit (les classes filles no podrien donar-li una implementació) i **això entra en contradicció** amb el fet que tots els mètodes abstractes **és obligatori que siguin implementats per les classes filles**.\n",
    "\n",
    "Veiem un altre exemple:"
   ]
  },
  {
   "cell_type": "code",
   "execution_count": 9,
   "id": "52e54e31-1be4-451c-a817-5e6403d9a5ee",
   "metadata": {},
   "outputs": [],
   "source": [
    "abstract class Animal {\n",
    "    public abstract void move();\n",
    "}\n",
    "\n",
    "class Mammal extends Animal {\n",
    "    @Override\n",
    "    public void move() {\n",
    "        System.out.println(\"Camino...\");\n",
    "    }\n",
    "}\n",
    "class Fish extends Animal {\n",
    "    @Override\n",
    "    public void move() {\n",
    "        System.out.println(\"Nedo...\");\n",
    "    }\n",
    "}\n",
    "class Bird extends Animal {\n",
    "    @Override\n",
    "    public void move() {\n",
    "        System.out.println(\"Volo...\");\n",
    "    }\n",
    "}"
   ]
  },
  {
   "cell_type": "markdown",
   "id": "c1f5d07a-f9d1-41a3-a00a-dd5d32d969d6",
   "metadata": {},
   "source": [
    "### Interfícies"
   ]
  },
  {
   "cell_type": "markdown",
   "id": "63c3796d-c78b-435b-8782-b09281fcd096",
   "metadata": {},
   "source": [
    "Una interfície és similar a una classe abstracte. No cal posar la paraula clau **abstract** als mètodes, ja que per defecte els mètodes d'una interfície són abstractes.\n",
    "\n",
    "En versions anteriors a Java 8, les interfícies **només podien tenir mètodes abstractes**, és a dir, no podien proveir cap implementació.\n",
    "\n",
    "> A partir de la versió 8 de Java en endavant, les interfícies poden proveir una **implementació per defecte** als seus mètodes. Quan això tingui lloc, s'haurà d'indicar amb la paraula clau **default**."
   ]
  },
  {
   "cell_type": "markdown",
   "id": "c8495b63-865b-4f33-8e3b-a386868fb781",
   "metadata": {},
   "source": [
    "Exemple:"
   ]
  },
  {
   "cell_type": "code",
   "execution_count": 10,
   "id": "911b6849-da0c-4cd2-ad36-c2b628a1e4ce",
   "metadata": {},
   "outputs": [],
   "source": [
    "//Speakable vol dir \"parlable\", és a dir, que pot parlar\n",
    "interface Speakable {\n",
    "    void speak();\n",
    "}"
   ]
  },
  {
   "cell_type": "markdown",
   "id": "d6ebd88e-e13f-4b55-b5de-7056f4ac6e0c",
   "metadata": {},
   "source": [
    "- A les interfícies, per defecte, els mètodes són **abstractes i públics** (no cal indicar-ho de forma explícita). \n",
    "\n",
    "- Els mètodes de les interfícies **només poden ser públics** (no poden tenir una altra visibilitat).\n",
    "\n",
    "Continuem amb l'exemple:"
   ]
  },
  {
   "cell_type": "code",
   "execution_count": 11,
   "id": "c2a1fc6f-ff67-4749-9e0b-2043bfbfef36",
   "metadata": {},
   "outputs": [],
   "source": [
    "//Duck és un ànec\n",
    "class Duck implements Speakable {\n",
    "    @Override\n",
    "    public void speak() {\n",
    "        System.out.println(\"Quack, quack !!\");\n",
    "    }\n",
    "}\n",
    "\n",
    "//Cow és una vaca\n",
    "class Cow implements Speakable {\n",
    "    @Override\n",
    "    public void speak() {\n",
    "        System.out.println(\"Muuuuu, muuuuu !!\");\n",
    "    }\n",
    "}"
   ]
  },
  {
   "cell_type": "markdown",
   "id": "b7696941-18ca-458c-9cb5-0ad07e014b76",
   "metadata": {},
   "source": [
    "Continuem amb un altre exemple. En aquest cas, hi ha una **implementació per defecte** a la interfície:"
   ]
  },
  {
   "cell_type": "code",
   "execution_count": 12,
   "id": "afd05b25-2d9d-4087-b729-d810a70b2625",
   "metadata": {},
   "outputs": [],
   "source": [
    "//LivingBeing vol dir \"ésser viu\"\n",
    "interface LivingBeing {\n",
    "    default void reproduce(){\n",
    "        System.out.println(\"Em reprodueixo sexualment\");\n",
    "    }\n",
    "}"
   ]
  },
  {
   "cell_type": "markdown",
   "id": "427c390a-53b2-4055-8783-0f364d2d7014",
   "metadata": {},
   "source": [
    "Fixeu-vos que la següent classe, ```Mammal```, estén la classe abstracta ```Animal```, de la qual implementa el mètode abstracte ```move()``` **i també implementa la interfície** ```LivingBeing``` però **no** en sobreescriu el mètode ```reproduce()``` perquè els mamífers es reproduceixen sexualment i no cal (així és per defecte en la interfície):"
   ]
  },
  {
   "cell_type": "code",
   "execution_count": 13,
   "id": "8518a32c-002a-46ca-93ea-18cb8cdd5e04",
   "metadata": {},
   "outputs": [],
   "source": [
    "class Mammal extends Animal implements LivingBeing {\n",
    "    @Override\n",
    "    public void move() {\n",
    "        System.out.println(\"Camino...\");\n",
    "    }\n",
    "}"
   ]
  },
  {
   "cell_type": "markdown",
   "id": "49832c07-cca6-4167-971e-e523fa7f172c",
   "metadata": {},
   "source": [
    "En canvi, per a la classe ```Bacteria```, que implementa la interfície ```LivingBeing```, caldrà sobreescriure el mètode ```reproduce()``` (ja que la implementació per defecte no és vàlida - les bactèries no usen el sexe per a reproduir-se):"
   ]
  },
  {
   "cell_type": "code",
   "execution_count": 15,
   "id": "1ab88c56-c540-4ba7-b71a-101eae8f30a8",
   "metadata": {},
   "outputs": [],
   "source": [
    "class Bacteria implements LivingBeing {\n",
    "    @Override\n",
    "    public void reproduce() {\n",
    "        System.out.println(\"Em reprodueixo asexualment\");\n",
    "    }\n",
    "}"
   ]
  },
  {
   "cell_type": "markdown",
   "id": "103f40ef-120d-4dfa-8890-4a237dd5538e",
   "metadata": {},
   "source": [
    "> Una classe **només pot estendre una sola classe** (no es permet l'herència múltiple).\n",
    "\n",
    "```java\n",
    "class Alumne extends Person, Animal { //ERROR !!!\n",
    "    //...\n",
    "}\n",
    "```"
   ]
  },
  {
   "cell_type": "markdown",
   "id": "872d3520-29cc-4c34-9163-301ffdef9598",
   "metadata": {},
   "source": [
    "Però...\n",
    "\n",
    "> Una **classe pot implementar tantes interfícies com necessiti**. També pot estendre i implementar a la vegada.\n",
    "\n",
    "```java\n",
    "class Person extends Mammal implements Speakable, LivingBeing {  //Correcte\n",
    "\n",
    "    //Quins mètode has de sobreescriure aquí??\n",
    "    \n",
    "}\n",
    "```"
   ]
  },
  {
   "cell_type": "markdown",
   "id": "9279d019-3cc9-4707-bd8a-fcfcf335502d",
   "metadata": {},
   "source": [
    "### Polimorfisme"
   ]
  },
  {
   "cell_type": "markdown",
   "id": "7990cad5-b689-48b1-98f2-987bde986569",
   "metadata": {},
   "source": [
    "Una classe ens dóna un nou tipus de dada amb el que poder treballar:\n",
    "\n",
    "```java\n",
    "class Mammal {\n",
    "}\n",
    "\n",
    "// Un cop definida la classe, \n",
    "// podem declarar una variable amb aquest tipus de dada\n",
    "Mammal mamifer;\n",
    "//...\n",
    "mamifer = new Mammal();\n",
    "```"
   ]
  },
  {
   "cell_type": "markdown",
   "id": "cac4fd6d-ec7c-4131-ace4-24dc48ac42c6",
   "metadata": {},
   "source": [
    "Això és vàlid tant per a classes regulars com també per a classes **abstractes**, i **també per a interfícies**. Però recordem que **ni les classes abtractes ni les interfícies es poden instanciar**:\n",
    "\n",
    "```java\n",
    "abstract class Animal {\n",
    "}\n",
    "\n",
    "// Un cop definida la classe abstracte, \n",
    "// podem declarar una variable amb aquest tipus de dada\n",
    "Animal animal; //Correcte\n",
    "//...\n",
    "animal = new Animal(); // ERROR !!!! La classe Animal és abstracte !!!!\n",
    "```"
   ]
  },
  {
   "cell_type": "markdown",
   "id": "22ce3123-2027-4c97-8ef4-7f6d34324e76",
   "metadata": {},
   "source": [
    "```java\n",
    "interface Speakable {\n",
    "    void speak();\n",
    "}\n",
    "// Un cop definida la interfície, \n",
    "// podem declarar una variable amb aquest tipus de dada\n",
    "Speakable speakable; //Correcte\n",
    "//...\n",
    "speakable = new Speakable(); // ERROR !!!! Speakable és una interfície !!!!\n",
    "```"
   ]
  },
  {
   "cell_type": "markdown",
   "id": "067a7b91-271e-4fe0-9795-9ceb5e5c25d8",
   "metadata": {},
   "source": [
    "Llavors, **per què serveixen les variables de classes abstractes o d'interfícies si no els podem assignar objectes d'aquests tipus de dades???**"
   ]
  },
  {
   "cell_type": "markdown",
   "id": "fbdfe859-1b7c-43b0-8238-a64c906cb6b4",
   "metadata": {},
   "source": [
    "Resposta:\n",
    "\n",
    "> A les variable declarades amb un tipus de dada d'una interfície o d'una classe abstracte només li podrem assignar instàncies de **subtipus de dades**, és a dir, de qualsevol tipus de dada de classes que implementin la interfície o que heredin (derivin) de la classe abstracte.\n",
    "\n",
    "Així, en els exemples anteriors, podrem fer:"
   ]
  },
  {
   "cell_type": "markdown",
   "id": "dda25b6c-26b1-4f04-a745-2ea3420ef226",
   "metadata": {},
   "source": [
    "```java\n",
    "abstract class Animal {\n",
    "    //...\n",
    "}\n",
    "class Mammal extends Animal {\n",
    "    //...\n",
    "}\n",
    "Animal animal; //Correcte\n",
    "animal = new Mammal(); // Correcte, un mammal és un tipus d'animal !!!\n",
    "```"
   ]
  },
  {
   "cell_type": "markdown",
   "id": "c8cf2e20-0b4d-4578-839e-27bc8e662f02",
   "metadata": {},
   "source": [
    "```java\n",
    "interface Speakable {\n",
    "    void speak();\n",
    "}\n",
    "class Duck implements Speakable {\n",
    "    @Override\n",
    "    public void speak() {\n",
    "        System.out.println(\"Quack, quack !!\");\n",
    "    }\n",
    "}\n",
    "Speakable speakable = new Duck(); // Correcte, un ànec pot \"parlar\"\n",
    "```"
   ]
  },
  {
   "cell_type": "markdown",
   "id": "3eb393c8-703a-424b-8335-9a96035deb23",
   "metadata": {},
   "source": [
    "Així doncs, **què és el polimorfisme??**\n",
    "\n",
    "Resposta:\n",
    "\n",
    "> El polimorfisme és la propietat que tenen les variables d'un tipus de dada, de canviar el tipus d'objecte que guarden, que podrà ser qualsevol objecte de classes filles o de classes que implementin (subclasses)."
   ]
  },
  {
   "cell_type": "markdown",
   "id": "6cb84514-e1e7-459b-b740-51cf58ad2419",
   "metadata": {},
   "source": [
    "Exemple 1:\n",
    "\n",
    "En el cas de la classe abstracte ```Animal```:"
   ]
  },
  {
   "cell_type": "markdown",
   "id": "e90ebcda-7b81-4d7e-a64a-41a051e8997b",
   "metadata": {},
   "source": [
    "```java\n",
    "abstract class Animal {\n",
    "    //...\n",
    "}\n",
    "class Mammal extends Animal {\n",
    "    //...\n",
    "}\n",
    "class Bird extends Animal {\n",
    "    //...\n",
    "}\n",
    "Animal animal; //Correcte\n",
    "animal = new Mammal(); // Correcte, un mammal és un tipus d'animal !!!\n",
    "\n",
    "//...\n",
    "\n",
    "animal = new Bird(); // Correcte, un ocell és un tipus d'animal !!!\n",
    "\n",
    "// La variable animal, de tipus Animal\n",
    "// ha canviat el tipus de dades de l'objecte\n",
    "// al que apunta: de mamífer ha canviat a ocell\n",
    "```"
   ]
  },
  {
   "cell_type": "markdown",
   "id": "d6bd2a25-e477-4c1f-9930-ab86c478cdef",
   "metadata": {},
   "source": [
    "Exemple 2:\n",
    "\n",
    "En el cas de la interfície ```Speakable```:"
   ]
  },
  {
   "cell_type": "markdown",
   "id": "5b951e9f-006b-41e1-8c9c-f9f68179eb96",
   "metadata": {},
   "source": [
    "```java\n",
    "interface Speakable {\n",
    "    void speak();\n",
    "}\n",
    "class Duck implements Speakable {\n",
    "    @Override\n",
    "    public void speak() {\n",
    "        System.out.println(\"Quack, quack !!\");\n",
    "    }\n",
    "}\n",
    "class Cow implements Speakable {\n",
    "    @Override\n",
    "    public void speak() {\n",
    "        System.out.println(\"Muuuuu, muuuuu !!\");\n",
    "    }\n",
    "}\n",
    "Speakable speakable = new Duck(); // Correcte, un ànec pot \"parlar\"\n",
    "//...\n",
    "speackable = new Cow(); // Correcte, una vaca també pot \"parlar\"\n",
    "\n",
    "// La variable speakable, de tipus Speakable\n",
    "// ha canviat el tipus de dades de l'objecte\n",
    "// al que apunta: de Duck (ànec) ha canviat a Cow (vaca)\n",
    "```"
   ]
  },
  {
   "cell_type": "code",
   "execution_count": null,
   "id": "877754e8-958f-4ae8-ba71-70a0258a2bd1",
   "metadata": {},
   "outputs": [],
   "source": []
  }
 ],
 "metadata": {
  "kernelspec": {
   "display_name": "Java 11",
   "language": "java",
   "name": "java"
  },
  "language_info": {
   "codemirror_mode": "java",
   "file_extension": ".jshell",
   "mimetype": "text/x-java-source",
   "name": "Java",
   "pygments_lexer": "java",
   "version": "11.0.11+9-Ubuntu-0ubuntu2.20.04"
  },
  "nbTranslate": {
   "displayLangs": [
    "*"
   ],
   "hotkey": "alt-t",
   "langInMainMenu": true,
   "sourceLang": "en",
   "targetLang": "ca",
   "useGoogleTranslate": true
  },
  "toc": {
   "base_numbering": 1,
   "nav_menu": {},
   "number_sections": true,
   "sideBar": true,
   "skip_h1_title": false,
   "title_cell": "Table of Contents",
   "title_sidebar": "Contents",
   "toc_cell": false,
   "toc_position": {},
   "toc_section_display": true,
   "toc_window_display": false
  },
  "varInspector": {
   "cols": {
    "lenName": 16,
    "lenType": 16,
    "lenVar": 40
   },
   "kernels_config": {
    "python": {
     "delete_cmd_postfix": "",
     "delete_cmd_prefix": "del ",
     "library": "var_list.py",
     "varRefreshCmd": "print(var_dic_list())"
    },
    "r": {
     "delete_cmd_postfix": ") ",
     "delete_cmd_prefix": "rm(",
     "library": "var_list.r",
     "varRefreshCmd": "cat(var_dic_list()) "
    }
   },
   "types_to_exclude": [
    "module",
    "function",
    "builtin_function_or_method",
    "instance",
    "_Feature"
   ],
   "window_display": false
  }
 },
 "nbformat": 4,
 "nbformat_minor": 5
}
