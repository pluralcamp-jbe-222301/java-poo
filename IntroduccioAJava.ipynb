{
 "cells": [
  {
   "cell_type": "markdown",
   "id": "901c71d7",
   "metadata": {},
   "source": [
    "# Introducció a Java (A)"
   ]
  },
  {
   "cell_type": "markdown",
   "id": "50eb6afa",
   "metadata": {
    "heading_collapsed": true
   },
   "source": [
    "## Què és Java?"
   ]
  },
  {
   "cell_type": "markdown",
   "id": "37309077",
   "metadata": {
    "hidden": true
   },
   "source": [
    "Java és un llenguatge de programació d'alt nivell, modern i d’ús general, desenvolupat inicialment per Sun Microsystems i actualment propietat d’Oracle Corporation. \n",
    "\n",
    "La característica clau del llenguatge és la **independència de la plataforma**: significa que el mateix programa Java es pot executar en diverses plataformes sense cap canvi. Aquest principi també es coneix com _\"escriu una vegada, executa't a qualsevol lloc\"_ (o WORA, de l'anglès _\"write once, run anywhere\"_).\n",
    "\n",
    "Java ha estat i és actualment **un dels llenguatges de programació més populars**. Ha obtingut la primera posició a l’índex TIOBE (un índex de popularitat del llenguatge de programació) durant molts anys. \n",
    "\n",
    "Aquest llenguatge l’utilitza una gran comunitat de desenvolupadors de tot el món. Si teniu algun problema, sempre podeu demanar ajuda a altres desenvolupadors o trobar una resposta adequada en línia.\n",
    "\n",
    "Java s’utilitza a:\n",
    "\n",
    "* als nostres telèfons intel·ligents Android\n",
    "\n",
    "* a la indústria dels serveis financers\n",
    "\n",
    "* a les telecomunicacions \n",
    "\n",
    "* als sistemes incrustats \n",
    "\n",
    "* a **aplicacions web**\n",
    "\n",
    "* i a moltes altres àrees. \n",
    "\n",
    "Per exemple, les aplicacions mèdiques l’utilitzen per emmagatzemar dades de pacients; els jocs d’ordinador, com ara Minecraft, es creen mitjançant Java; eines de desenvolupament com IntelliJ IDEA i Eclipse no existirien sense Java."
   ]
  },
  {
   "cell_type": "markdown",
   "id": "ad077bb4",
   "metadata": {
    "heading_collapsed": true
   },
   "source": [
    "## Una breu història de Java"
   ]
  },
  {
   "cell_type": "markdown",
   "id": "6bf4d115",
   "metadata": {
    "hidden": true
   },
   "source": [
    "El projecte de llenguatge Java va ser iniciat el 1991 per James Gosling i els seus col·legues. Al principi, el llenguatge es deia \"Oak\". Més tard, el projecte es va canviar al nom de \"Java\" com a referència al cafè Java. Per aquest motiu, el logotip de l’idioma és una tassa de cafè.\n",
    "\n",
    "![logotip java](images/java-logo.png)\n",
    "\n",
    "Sun Microsystems va llançar _Java 1.0_ el 1996. Posteriorment, es van llançar noves versions cada 1 o 3 anys. Des de Java 9, llançat el 2017, s’han publicat noves versions **cada 6 mesos**. Podeu llegir més sobre la seva història i trobar la versió més recent\n",
    "[aquí](https://en.wikipedia.org/wiki/Java_version_history)."
   ]
  },
  {
   "cell_type": "markdown",
   "id": "49968f6c",
   "metadata": {
    "heading_collapsed": true
   },
   "source": [
    "## Algunes característiques importants de Java"
   ]
  },
  {
   "cell_type": "markdown",
   "id": "1f893324",
   "metadata": {
    "hidden": true
   },
   "source": [
    "Com hem esmentat anteriorment, la característica més important de Java és la **independència de la plataforma**.\n",
    "\n",
    "Una altra característica important és una **sintaxi senzilla i clara**. Molts elements del llenguatge són fàcils de llegir i s’utilitzen àmpliament en altres llenguatges de programació com C/C++, C#, JavaScript i Go.\n",
    "\n",
    "Si alguna vegada heu escrit programes en C/C ++, sabeu que en aquest llenguatge (C/C++) cal fer una neteja manual de memòria, i això pot provocar errors al codi. Afortunadament, **Java té un col·lector d’escombraries que neteja automàticament la memòria** d’objectes no utilitzats durant el temps d’execució (_temps d'execució_ vol dir _mentre s'executa el programa_).\n",
    "\n",
    "També és important tenir en compte que **Java admet múltiples paradigmes de programació**; coneixereu més sobre ells en aquest curs.\n",
    "\n",
    "Java és principalment un llenguatge imperatiu basat en el concepte de **Programació Orientada a Objectes (POO)**: gairebé totes les parts d’un programa són **objectes**. Per tant, un programa en si mateix es pot considerar com **un conjunt d’objectes que interactuen entre sí**. \n",
    "\n",
    "A més, Java admet també paradigmes de programació moderns com la programació genèrica, la programació concurrent, la **programació funcional** i alguns d'altres.\n",
    "\n",
    "> ***\n",
    "> Si sou principiants en programació, pot ser difícil comprendre totes les característiques de Java ara mateix. Això no és dolent. Al llarg d’aquest curs, coneixereu tots aquests conceptes. A més, Java disposa de documentació en línia completa que inclou guies, tutorials, especificacions, documentació de l’API, informació tècnica i molt més.\n",
    "> ***\n",
    "\n",
    "\n",
    "En conclusió, Java és un llenguatge de programació modern i popular que es pot utilitzar amb èxit en gairebé tots els dominis."
   ]
  },
  {
   "cell_type": "markdown",
   "id": "d78abf7a",
   "metadata": {
    "heading_collapsed": true
   },
   "source": [
    "## Comentaris en Java"
   ]
  },
  {
   "cell_type": "markdown",
   "id": "8d2d28c5",
   "metadata": {
    "hidden": true
   },
   "source": [
    "> En qualsevol llenguatge de programació **sempre cal comentar el codi** en menor o major mesura. \n",
    "\n",
    "Això vol dir que, a banda del codi en sí mateix, cal afegir-hi **comentaris**, **_que serveixen per a donar explicacions sobre què fa el codi_**.\n",
    "\n",
    "Els comentaris poden incloure qualsevol text o exlicació que el programador hi vulgui afegir, però **perquè es puguin diferenciar del codi cal que vinguin indicats per algun símbol o símbols**. Per exemple:\n",
    "\n",
    "- en Python els comentaris venen precedits pel símbol ``#``\n",
    "\n",
    "- en SQL els comentaris venen precedits pels símbols ``--``\n",
    "\n",
    "En Java, hi ha 3 tipus de comentaris, depenen dels símbols usats per a diferenciar-los del codi:"
   ]
  },
  {
   "cell_type": "markdown",
   "id": "67983629",
   "metadata": {
    "hidden": true
   },
   "source": [
    "### Comentaris d'una sola línia\n",
    "\n",
    "És el comentari més simple i està pensat perquè ocupi una sola línia. El símbol que precedeix el comentari és ``//``. Exemple:"
   ]
  },
  {
   "cell_type": "code",
   "execution_count": 1,
   "id": "f579f135",
   "metadata": {
    "ExecuteTime": {
     "end_time": "2021-08-21T17:12+0000",
     "start_time": "2021-08-21T17:12:40.899Z"
    },
    "hidden": true
   },
   "outputs": [],
   "source": [
    "//Assignem el valor 3.14159 com a aproximació de pi\n",
    "float pi = 3.14159f;"
   ]
  },
  {
   "cell_type": "markdown",
   "id": "484eaf53",
   "metadata": {
    "hidden": true
   },
   "source": [
    "### Comentaris multi línia\n",
    "\n",
    "Quan el comentari és llarg i no hi cap en una sola línia, podem crear un comentari multi-línia. Aquest comentari haurà de quedar indicat al principi amb ``/*`` i al final amb ``*/``. Entre mig, cada línia de comentari haurà de començar amb el símbol ``*``. Exemple:"
   ]
  },
  {
   "cell_type": "code",
   "execution_count": 1,
   "id": "fe4e15cb",
   "metadata": {
    "ExecuteTime": {
     "end_time": "2021-08-25T17:12+0000",
     "start_time": "2021-08-25T17:12:32.826Z"
    },
    "hidden": true
   },
   "outputs": [],
   "source": [
    "/*\n",
    "* Tenim una variable de tipus float anomenada pi.\n",
    "* En aquesta variable hi volem guardar una aproximació\n",
    "* del valor del número matemàtic pi.\n",
    "* Hi guardem una aproximació usant només 5 decimals:\n",
    "* 3.14159\n",
    "*/\n",
    "float pi = 3.14159f;"
   ]
  },
  {
   "cell_type": "markdown",
   "id": "587392bc",
   "metadata": {
    "hidden": true
   },
   "source": [
    "### Comentaris Javadoc\n",
    "\n",
    "L’estructura de comentaris de Javadoc té un aspecte molt similar a un comentari de línies múltiples, però la diferència clau és l’**asterisc addicional al principi**:\n",
    "\n",
    "```java\n",
    "/**\n",
    "* Això és un comentari Javadoc\n",
    "*/\n",
    "\n",
    "/*\n",
    "* Això és un comentari multi-línia\n",
    "*/\n",
    "```\n",
    "\n",
    "Així com **els comentaris d'una sola línia o de multilínia es poden col·locar a qualsevol lloc del codi**, els comentaris Javadoc no:\n",
    "\n",
    "> Els comentaris de Javadoc es poden col·locar a l'inici de qualsevol **classe**, **mètode** o **atribut de classe** que vulguem **documentar**.\n",
    "\n",
    "> En els següents apartats es fa una introducció als conceptes de **classe**, **atributs** i **mètodes**.\n",
    "\n",
    "Així, els comentaris Javadoc no només serveixen per a comentar el codi i donar explicacions sobre què fa el codi, sinó que **el seu propòsit principal és**:\n",
    "\n",
    "> Els comentaris Javadoc serveixen per a **documentar** les classes, i els seus atributs i mètodes.\n",
    "\n",
    "> Un cop afegits els Javadoc, **podrem generar documents HTML** que contindran la informació de totes les classes, atributs i mètodes comentats amb Javadoc.\n",
    "\n",
    "Exemple de comentari Javadoc aplicat a una classe (s'escriu abans de l'inici de la classe):"
   ]
  },
  {
   "cell_type": "code",
   "execution_count": 2,
   "id": "12cbf5a3",
   "metadata": {
    "ExecuteTime": {
     "end_time": "2021-08-25T17:13+0000",
     "start_time": "2021-08-25T17:13:52.422Z"
    },
    "hidden": true
   },
   "outputs": [],
   "source": [
    "/**\n",
    "* SuperHeroi és la classe principal que usarem . . .\n",
    "* \n",
    "* Superherois: {@link https://www.marvel.com/characters}\n",
    "* @author Capità Amèrica\n",
    "*/\n",
    "class SuperHeroi {\n",
    "    // atributs i mètodes\n",
    "}"
   ]
  },
  {
   "cell_type": "markdown",
   "id": "31a5ea03",
   "metadata": {
    "ExecuteTime": {
     "end_time": "2021-08-21T17:37+0000",
     "start_time": "2021-08-21T17:37:02.463Z"
    }
   },
   "source": [
    "## Classes"
   ]
  },
  {
   "cell_type": "markdown",
   "id": "086443cd",
   "metadata": {},
   "source": [
    "En Java podem crear _blocs de codi_ per a agrupar un conjunt de línies de codi. L'inici del bloc de codi s'indica amb el símbol ``'{'`` i el final del bloc de codi es tanca amb el símbol ``'}'``.\n",
    "\n",
    "Els blocs de codi s'expliquen amb més detall a l'apartat de ``Blocs de codi`` d'aquest curs.\n",
    "\n",
    "Un dels blocs de codi més importants en Java són les _**classes**_.\n",
    "\n",
    "Les classes són **blocs de codi no anònims** (és a dir, als quals cal donar un nom). La sintaxi d'una classe és:\n",
    "\n",
    "```java\n",
    "class NomDeLaClasse {\n",
    "    //contingut de la classe\n",
    "}\n",
    "```\n",
    "\n",
    "_Nota: també existeixen classes anònimes en Java, però de moment no les estudiarem._\n",
    "\n",
    "> Els **noms de les classes han de seguir el conveni anomenat ``PascalCase``** (també anomenat ``UpperCamelCase``). Aquest conveni s'explica [aquí](https://ca.wikipedia.org/wiki/CamelCase).\n",
    "\n",
    "Les classes es fan servir per a: \n",
    "\n",
    "> 1 - Crear **plantilles** per a definir **tipus** d'objectes:\n",
    "\n",
    "Java és un llenguatge _Orientat a l'Objecte_, la qual cosa vol dir que **amb Java podem representar objectes del món real** (objectes físics com ara una persona, una escola, un arbre... o objectes no físics com ara una idea, una competició o una fórmula matemàtica).\n",
    "\n",
    "Els objectes es defineixen creant classes, doncs les classes no són altra cosa que **plantilles que defineixen les característiques d'un objecte**.\n",
    "\n",
    "Aquests conceptes s'expliquen amb més detall en l'apartat de _Programació Orientada a l'Objecte_ d'aquest curs.\n",
    "\n",
    "Un exemple podria ser una classe per a representar un alumne:\n",
    "\n",
    "```java\n",
    "class Student {\n",
    "    //continguts de la classe\n",
    "    /*\n",
    "    * Han de ser continguts que representin\n",
    "    * característiques d'un alumne.\n",
    "    */\n",
    "}\n",
    "```\n",
    "Així, la classe ``Student``representa un **tipus** d'objecte... quin? El d'un _student_: **A partir d'aquesta classe es podran crear tots els objectes de tipus ``Student`` que es necessiti**.\n",
    "\n",
    "> Més endavant en aquest curs es veurà com es creen els objectes. Ara no ens cal saber com es creen, els objectes, només ens cal saber que és necessari crear una classe que defineixi com seran (per a això diem que la classe és una plantilla).\n",
    "\n",
    "***\n",
    "\n",
    "Les classes també es fan servir per a:\n",
    "\n",
    "> 2 - Agrupar codi que té propòsits o funcionalitats relacionades entre sí:\n",
    "\n",
    "Imaginem que volem fer que el nostre programa calculi els resultats d'**aplicar una sèrie de fórmules matemàtiques de previsió del temps** a diferents valors recollits per diversos aparells meteorològics (termòmetres, higròmetres, baròmetres, imatges satèl·lit, etc.)... en aquest cas, podem crear una classe que agrupi tots aquests càlculs, perquè són càlculs que **tenen un mateix propòsit**: fer la previsió del temps.\n",
    "\n",
    "En aquest exemple, a la classe la podríem anomenar ``CalculsAtmosferics``:\n",
    "\n",
    "```java\n",
    "class CalculsAtmosferics {\n",
    "    ... //continguts de la classe\n",
    "}\n",
    "```\n",
    "***\n"
   ]
  },
  {
   "cell_type": "markdown",
   "id": "aa1ca984-b75c-4a4f-a5b3-610d10b29449",
   "metadata": {},
   "source": [
    "### Classes i fitxers"
   ]
  },
  {
   "cell_type": "markdown",
   "id": "eded250b-f151-4bce-ba86-018aebc2bdd0",
   "metadata": {},
   "source": [
    "> En un fitxer java hi poden haver tantes classes com es vulgui, però **només una pot ser pública**. En aquest cas, el fitxer **ha de tenir el mateix nom que la classe pública**."
   ]
  },
  {
   "cell_type": "markdown",
   "id": "5c029ad0",
   "metadata": {},
   "source": [
    "## Atributs"
   ]
  },
  {
   "cell_type": "markdown",
   "id": "533403af",
   "metadata": {},
   "source": [
    "> S'anomena **atributs** o camps d'una classe a **totes les variables que es declaren dins de l'àmbit d'una classe** (això no inclou les variables que es declaren dins dels mètodes, - dels mètodes se'n fa una introducció al següent apartat).\n",
    "\n",
    "Els atributs, a l'igual que amb qualsevol variable en Java, **es poden només declarar** (sense assignar-lis cap valor explícit) i, més tard, fer-lis assignacions de valors en alguna altra part del programa, o **es poden declarar i inicialitzar** (assignar-lis un valor explícit) al mateix temps.\n",
    "\n",
    "> Quan un atribut és declarat però no se li assigna cap valor explícitament, Java li assigna un **valor per defecte**:\n",
    "\n",
    "<img src=\"images/default_values_fields.png\" alt=\"default values for fields\" width=\"50%\"/>\n",
    "\n",
    "> Els noms dels atributs en Java, a l'igual que totes les variables en Java, **segueixen el conveni ``camelCase``**.  Aquest conveni s'explica [aquí](https://ca.wikipedia.org/wiki/CamelCase).\n",
    "\n",
    "Exemple:\n",
    "\n",
    "```java\n",
    "class Student {\n",
    "    \n",
    "    //Exemple de tres atributs\n",
    "    \n",
    "    /* L'atribut notaFinal té el \n",
    "    * valor per defecte 0.0f\n",
    "    */\n",
    "    \n",
    "    String nom = \"Laura\";\n",
    "    boolean estaMatriculat = true;\n",
    "    float notaFinal;\n",
    "    \n",
    "    /*\n",
    "    * ... i altres continguts que representin\n",
    "    * característiques d'un alumne.\n",
    "    */\n",
    "} //final del bloc de codi de la classe Student\n",
    "```\n"
   ]
  },
  {
   "cell_type": "markdown",
   "id": "494f77ba",
   "metadata": {},
   "source": [
    "## Mètodes"
   ]
  },
  {
   "cell_type": "markdown",
   "id": "cae1e7e0",
   "metadata": {},
   "source": [
    "> Els mètodes són funcions que estan definides dins d'una classe.\n",
    "\n",
    "Recordeu que, com s'ha explicat en l'apartat de _Blocs de codi_ d'aquest curs, **les funcions són essencialment blocs de codi que contenen tot el codi necessari per a, un cop executat, obtenir un resultat concret**. I aquest bloc de codi **es pot executar tantes vegades com es vulgui** - _sense la necessitat de tornar a escriure el mateix codi_.\n",
    "\n",
    "_Nota_: Les funcions s'estudien amb més detall a l'apartat de _Programació funcional_ d'aquest curs.\n",
    "\n",
    "> En Java és habitual usar indistintament els termes _funció_ o _mètode_."
   ]
  },
  {
   "cell_type": "markdown",
   "id": "9c8df98c",
   "metadata": {
    "heading_collapsed": true
   },
   "source": [
    "### Retorn (return)"
   ]
  },
  {
   "cell_type": "markdown",
   "id": "3f9d465e",
   "metadata": {
    "hidden": true
   },
   "source": [
    "Un mètode doncs, pot retornar...:\n",
    "\n",
    "A) **Retornar un resultat**: en aquest cas **cal indicar** de quin **tipus de dada** s'espera que serà el valor retornat (``int``, ``boolean``, ``String``, etc.).\n",
    "\n",
    "> Aquest valor retornat serà el resultat que s'obtindrà després que tot el codi, totes les instruccions, que hi ha dins del mètode, s'hagin executat.\n",
    "\n",
    "\n",
    "B) Fer una acció (imprimir per pantalla o modificar un fitxer, per exemple) i **no retornar cap resultat**: en aquest cas s'indicarà amb la paraula clau ``void`` (que vol dir que el mètode **no retorna res**).\n",
    "\n",
    "\n",
    "> El tipus de dada que el mètode retorna (``int``, ``boolean``, ``String``, etc.) o ``void`` si no retorna res, s'ha d'escriure **abans del nom del mètode**.\n",
    "\n",
    "En el següent **exemple** tenim un mètode que, un cop executat i finalitzat, haurà calculat un resultat de tipus ``int``, **que serà el valor que retornarà**.\n",
    "\n",
    "```java\n",
    "int nomMetode(parametre1, parametre2, ...){ \n",
    "    //variable local:\n",
    "    int result;\n",
    "    \n",
    "    /*\n",
    "    * cos del mètode\n",
    "    * amb el càlcul del resultat\n",
    "    * que s'assignarà a la variable result.\n",
    "    */\n",
    "    \n",
    "    //retornem el resultat final obtingut\n",
    "    //de tipus int\n",
    "    return result;\n",
    "}\n",
    "```"
   ]
  },
  {
   "cell_type": "markdown",
   "id": "9c1e4f08",
   "metadata": {
    "heading_collapsed": true
   },
   "source": [
    "### Paràmetres"
   ]
  },
  {
   "cell_type": "markdown",
   "id": "b642a733",
   "metadata": {
    "hidden": true
   },
   "source": [
    "Per altra banda **un mètode pot rebre, o no, paràmetres d'entrada** (tants com es vulgui).\n",
    "\n",
    "> Si hi ha paràmetres d'entrada, s'escriuran dins del parèntesis que hi ha després del nom del mètode, separats per comes.\n",
    "\n",
    "> Si no hi ha paràmetres d'entrada, el parèntesis que hi ha després del nom del mètode, estarà buit.\n",
    "\n",
    "Els paràmetres d'entrada són **variables d'àmbit local** (és a dir, que es poden fer servir dins del mètode però que fora del mètode no existeixen) que es declaren en la mateixa signatura del mètode dins del parèntesi, separades per comes. Per exemple:\n",
    "\n",
    "```java\n",
    "/**\n",
    "* Aquest mètode imprimeix una salutació una \n",
    "* o varies vegades.\n",
    "*\n",
    "* @param salutacio La salutació a imprimir.\n",
    "* @param numeroRepeticions El número de vegades \n",
    "* que s'imprimeix la salutació.\n",
    "* @return void No retorna res\n",
    "*/\n",
    "void imprimeixSalutacions(String salutacio, int numeroRepeticions) {\n",
    "    //continguts del mètode\n",
    "}\n",
    "```\n",
    "\n",
    "En aquest exemple, tenim un mètode anomenat ``imprimeixSalutacions`` que no retorna res i que té **dos paràmetres**:\n",
    "\n",
    "\n",
    "A) El primer paràmetre és de tipus ``String`` i està declarat amb el nom ``salutacio``. Serà la salutació a imprimir.\n",
    "\n",
    "B) El segon paràmetre és de tipus ``int`` i està declarat amb el nom ``numeroRepeticions``. Indica quantes vegades s'imprimirà la salutació.\n",
    "\n",
    "> Aquests paràmetres **són equivalents a variables locals**. Així, dins del mètode podem utilitzar ``salutacio`` i ``numeroRepeticions`` com si fossin variables locals.\n",
    "\n",
    "> Fixeu-vos que els noms que hem escollit tant per als paràmetres com per al mètode són explicatius d'allò que representen. Per conveni, és millor usar noms llargs i que ens ajudin a entendre el propòsit, que no pas curts i que no s'entenguin.\n",
    "\n",
    "Per exemple, el següent mètode també funcionaria (suposant que tingui el mateix contingut que l'anterior), però es fa difícil entendre quin és el seu propòsit a primera vista, per tant **evitarem sempre donar noms que es puguin confondre o que no siguin prou clars**: **és millor fer servir noms llargs**.\n",
    "\n",
    "```java\n",
    "//No se sap què fa llegint els noms iS, s i n\n",
    "void iS(String s, int n) {\n",
    "    //continguts del mètode\n",
    "}\n",
    "```"
   ]
  },
  {
   "cell_type": "markdown",
   "id": "358f47d9",
   "metadata": {
    "heading_collapsed": true
   },
   "source": [
    "### Signatura d'un mètode"
   ]
  },
  {
   "cell_type": "markdown",
   "id": "97b6fab6",
   "metadata": {
    "hidden": true
   },
   "source": [
    "> La signatura d'un mètode està composta **pel seu nom** i **pels seus paràmetres**. Forma part de la declaració del mètode:\n",
    "\n",
    "![signatura](images/method-in-java.png)\n",
    "\n",
    "> El tipus del valor de retorn **no forma part de la signatura del mètode**.\n",
    "\n",
    "En aquest exemple també veiem:\n",
    "\n",
    "a) ``public`` : és un modificador d'accés. Indica que el mètode té una **visibilitat pública**. De moment, només cal entendre que la seva presencia és **opcional** i serveix per a indicar que el mètode pot ser **cridat** (_cridat_ equival a _ser executat_) des de qualsevol altra classe o objecte (diferent de la classe on està definit). \n",
    "\n",
    "> Si intentem cridar un mètode des d'una altra classe **des de la qual no en tenim visibilitat**, el programa no funcionarà.\n",
    "\n",
    "> Amb **visibilitat pública** garantim que el mètode és visible (i per tant, pot ser cridat) **des de qualsevol lloc** del nostre programa.\n",
    "\n",
    "Existeixen altres modificadors de visibilitat, a banda de ``public``, però ara no els veurem. \n",
    "\n",
    "Hi trobareu una explicació detallada i exemples, dels diferents modificadors de visibilitat, en l'apartat de _Programació Orientada a l'Objecte: Encapsulament_ . \n",
    "\n",
    "b) _**method body**_. S'anomena _cos del mètode_ a tot el codi que es troba dins seu, és a dir, entre ``{`` i ``}``."
   ]
  },
  {
   "cell_type": "markdown",
   "id": "5dc83d26",
   "metadata": {
    "heading_collapsed": true
   },
   "source": [
    "### Crida d'un mètode"
   ]
  },
  {
   "cell_type": "markdown",
   "id": "ef7f85da",
   "metadata": {
    "hidden": true
   },
   "source": [
    "El codi que es troba ubicat dins d'un mètode pot ser executat tantes vegades com es vulgui. Per a executar-lo, cal **cridar el mètode**."
   ]
  },
  {
   "cell_type": "markdown",
   "id": "11b8d421",
   "metadata": {
    "heading_collapsed": true,
    "hidden": true
   },
   "source": [
    "#### Cridem el mètode des de dins de la mateixa classe on està definit"
   ]
  },
  {
   "cell_type": "markdown",
   "id": "c7bc3eff",
   "metadata": {
    "hidden": true
   },
   "source": [
    "\n",
    "Per exemple, cridem un mètode des d'un altre mètode, estant ambdós mètodes definits **dins de la mateixa classe**.\n",
    "\n",
    "> **Cridar un mètode** no significa altra cosa que escriure el seu nom seguit d'un parèntesi dins del qual **hi haurà un valor per a cadascún dels paràmetres que hi hagi a la signatura del mètode**, **o cap valor si el mètode no té paràmetres**."
   ]
  },
  {
   "cell_type": "markdown",
   "id": "49da1cea",
   "metadata": {
    "hidden": true
   },
   "source": [
    "\n",
    "Per exemple, si tenim definit aquest mètode:\n",
    "\n",
    "```java\n",
    "void imprimeixSalutacions(String salutacio, int numeroRepeticions) {\n",
    "    //cos del mètode\n",
    "}\n",
    "```\n",
    "\n",
    "Així, per exemple, per a executar el codi que hi ha a dins seu, l'haurem de cridar així:\n",
    "\n",
    "```java\n",
    "//Imprimeix dues vegades la salutació \"Bon dia\".\n",
    "imprimeixSalutacions(\"Bon dia\", 2);\n",
    "```\n",
    "\n",
    "o així:\n",
    "\n",
    "```java\n",
    "//Imprimeix una vegada la salutació \"Ep, com va?\".\n",
    "imprimeixSalutacions(\"Ep, com va?\", 1);\n",
    "```"
   ]
  },
  {
   "cell_type": "markdown",
   "id": "c0ebc135",
   "metadata": {
    "hidden": true
   },
   "source": [
    "#### Cridem el mètode des d'una classe diferent a la qual hi està definit"
   ]
  },
  {
   "cell_type": "markdown",
   "id": "a98fb699",
   "metadata": {
    "hidden": true
   },
   "source": [
    "Suposem que tenim el mètode anterior definit a dins de la classe ``PrintMessages``:\n",
    "\n",
    "```java \n",
    "public class PrintMessages{\n",
    "\n",
    "    public static void imprimeixSalutacions(String salutacio, int numeroRepeticions) {\n",
    "    //cos del mètode\n",
    "    }\n",
    "}\n",
    "```\n",
    "\n",
    "_Nota_: ``static`` s'explica a continuació !!! (en acabar aquest exemple)."
   ]
  },
  {
   "cell_type": "markdown",
   "id": "64ef8209",
   "metadata": {
    "hidden": true
   },
   "source": [
    "\n",
    "Podem cridar aquest mètode des d'un altre mètode **ubicat a una altra classe** del nostre programa, per exemple:\n",
    "\n",
    "```java \n",
    "class Salutacio {\n",
    "\n",
    "    void mostraSalutacionsHabituals() {\n",
    "        \n",
    "        /* \n",
    "        * Crida diverses vegades del mètode\n",
    "        * imprimeixSalutacions que està ubicat\n",
    "        * a la classe PrintMessages\n",
    "        */\n",
    "        PrintMessages.imprimeixSalutacions(\"Bon dia\",1);\n",
    "        PrintMessages.imprimeixSalutacions(\"Bon vespre\",1);\n",
    "        PrintMessages.imprimeixSalutacions(\"Ep, com anem?\",1);\n",
    "        PrintMessages.imprimeixSalutacions(\"Ei, com va?\",1);\n",
    "    }\n",
    "}\n",
    "```"
   ]
  },
  {
   "cell_type": "markdown",
   "id": "31c93017",
   "metadata": {
    "hidden": true
   },
   "source": [
    "\n",
    "**A tenir en compte**:\n",
    "\n",
    "1) En cridar el mètode, **usem el ``.`` (punt) com a símbol separador entre el nom de la classe i el nom del mètode que cridem**.\n",
    "\n",
    "2) Perquè un mètode pugui ser cridat des d'una altra classe, **és necessari que sigui visible des d'aquesta altra classe**. Amb el modificador de visibilitat **``public``**, posat tant a la classe ``PrintMessages`` com al mateix mètode ``imprimeixSalutacions``, garantim que el mètode **serà visible des de qualsevol classe**.\n",
    "\n",
    "3) El modificador **``static``** que hem posat al mètode que volem cridar és un modificador **opcional**. Posant-lo, ens permet cridar el mètode de la manera més senzilla possible, que és **usant el nom de la classe** (``PrintMessages``), tal com es mostra en l'exemple:\n",
    "\n",
    "```java\n",
    "PrintMessages.imprimeixSalutacions(\"Bon dia\",1);\n",
    "```"
   ]
  },
  {
   "cell_type": "markdown",
   "id": "90427c15",
   "metadata": {
    "hidden": true
   },
   "source": [
    "**Per a saber més sobre ``static``**:\n",
    "\n",
    "_Si no usem ``static`` en el mètode que volem cridar, per a cridar-lo hauríem de primer crear un objecte de la classe a la qual pertany el mètode_:\n",
    "\n",
    "```java\n",
    "public class PrintMessages{\n",
    "    \n",
    "    //Mètode no estàtic\n",
    "    public void imprimeixSalutacions(String salutacio, int numeroRepeticions) {\n",
    "    //cos del mètode\n",
    "    }\n",
    "}\n",
    "\n",
    "class Salutacio {\n",
    "\n",
    "    void mostraSalutacionsHabituals() {\n",
    "        \n",
    "        /* \n",
    "        * Per a cridar un mètode no estàtic\n",
    "        * cal primer crear un objecte\n",
    "        * de la classe en la qual es troba\n",
    "        * el mètode\n",
    "        */\n",
    "        \n",
    "        //Creació d'un objecte:\n",
    "        PrintMessages pm = new PrintMessages();\n",
    "        \n",
    "        //Cridem el mètode\n",
    "        pm.imprimeixSalutacions(\"Bon dia\",1);\n",
    "        pm.imprimeixSalutacions(\"Bon vespre\",1);\n",
    "        pm.imprimeixSalutacions(\"Ep, com anem?\",1);\n",
    "        pm.imprimeixSalutacions(\"Ei, com va?\",1);\n",
    "    }\n",
    "}\n",
    "```\n",
    "\n",
    "_Nota_: No és necessari entendre ara què vol dir _crear un objecte_ ni les seves implicacions, o quan és necessari fer-ho. En l'apartat de _Programació Orientada a l'Objecte_ s'explica amb detall."
   ]
  },
  {
   "cell_type": "markdown",
   "id": "a309035d",
   "metadata": {
    "hidden": true
   },
   "source": [
    "> **Ara només cal entendre que per a cridar un mètode des d'una altra classe ho farem primer posant el nom de la classe, seguit d'un ``.``, seguit del nom del mètode (i donant valors als seus paràmetres si en té)**. \n",
    "\n",
    "> **I que per a fer-ho així, cal que posem el modificador ``static`` al mètode que volem cridar**."
   ]
  },
  {
   "cell_type": "markdown",
   "id": "73187f4d",
   "metadata": {
    "heading_collapsed": true
   },
   "source": [
    "## L'API de Java"
   ]
  },
  {
   "cell_type": "markdown",
   "id": "016d13ae",
   "metadata": {
    "hidden": true
   },
   "source": [
    "> L'**API** (_Application Program Interface_) **de Java** no és res més que **el conjunt de classes que venen integrades en el mateix llenguatge de programació Java**, amb tots els seus corresponents mètodes i atributs.\n",
    "\n",
    "> L'API posa a disposició dels programadors un munt de funcionalitats, estructures de dades, etc. ja programades i llestes per a ser usades.\n",
    "\n",
    "_Nota_: entre tot el conjunt de classes de l'API de Java, hi trobem també _classes abstractes_, _interfícies_ i _enums_, que no són res més que unes classes de Java amb certes característiques especials, i que s'expliquen en detall en altres apartats d'aquest curs."
   ]
  },
  {
   "cell_type": "markdown",
   "id": "9651a6f3",
   "metadata": {
    "hidden": true
   },
   "source": [
    "> L'API de Java també se l'anomena \"llibreria\" de Java o _Core Java_, o **API de Java SE** (_Java Standard Edition_).\n",
    "\n",
    "> També existeixen altres llibreries, com l'[API de Java EE](https://javaee.github.io/javaee-spec/javadocs/) (_Enterprise Edition_) i APIs de tercers (fetes per altres companyies, altres programadors... - per exemple [Guava](https://github.com/google/guava))."
   ]
  },
  {
   "cell_type": "markdown",
   "id": "5d0ae93f",
   "metadata": {
    "hidden": true
   },
   "source": [
    "> L'API de Java s'ha de descarregar i s'ha d'incorporar en els teus programes que desenvolupis.\n",
    "\n",
    "> **Per a programar amb Java, cal instal·lar la JDK**. Instal·lant la JDK, es descarrega i s'instal·la l'API de Java, la JVM (_Java Virtual Machine_) i d'altres elements i utilitats necessaris per a programar amb Java.\n",
    "\n",
    "> Fins a la versió 8 de Java, l'API de Java és un tot (te la descarregues tota o no te la descarregues) i les classes s'agrupen i es classifiquen en _packages_.\n",
    "\n",
    "> Des de la versió 9 de Java, l'API de Java està agrupada en mòduls i, depenent del programa que desenvolupis, potser serà necessari que només incorporis al teu programa un o uns mòduls concrets de l'API, però no tota l'API.\n",
    "\n",
    "> **Des de la versió 9 de Java en endavant, les classes de l'API de Java estan agrupades i classificades en _packages_ i _modules_**."
   ]
  },
  {
   "cell_type": "markdown",
   "id": "63707936",
   "metadata": {
    "hidden": true
   },
   "source": [
    "Podeu donar un cop d'ull a les API de Java SE, versions 11 (la que fem servir en aquest curs) i la versió 8:\n",
    "\n",
    "\n",
    "[API de Java SE (_Standard Edition_) versió 11](https://docs.oracle.com/en/java/javase/11/docs/api/)\n",
    "\n",
    "[API de Java SE (_Standard Edition_) versió 8](https://docs.oracle.com/javase/8/docs/api/)\n",
    "\n",
    "_Com a curiositat_:\n",
    "\n",
    "**Els documents de l'API de Java són documents HTML generats a partir dels comentaris Javadoc que tenen totes les classes, mètodes i atributs de l'API**.\n",
    "\n",
    "***\n"
   ]
  },
  {
   "cell_type": "markdown",
   "id": "d422508b",
   "metadata": {},
   "source": [
    "## Imprimir per pantalla en Java"
   ]
  },
  {
   "cell_type": "markdown",
   "id": "eda21d63",
   "metadata": {},
   "source": [
    "Per a imprimir missatges per pantalla podem usar dos mètodes que formen part de l'API de Java: ``print()`` i ``println()``.\n",
    "\n",
    "Aquests dos mètodes es troben a la classe ``PrintStream`` i no són _estàtics_. Per tant, **NO els podem fer servir així**:\n",
    "\n",
    "```\n",
    "//No funciona\n",
    "PrintStream.print();\n",
    "```\n"
   ]
  },
  {
   "cell_type": "markdown",
   "id": "1663d75e",
   "metadata": {},
   "source": [
    "En ser mètodes no estàtics, és necessari crear un objecte a partir de la classe ``PrintStream`` i des de l'objecte creat, llavors ja podrem cridar tant ``print()`` com ``println()``.\n",
    "\n",
    "> L'API de Java ja ens proporciona alguns objectes de la classe ``PrintStream`` que podem utilitzar. Per tant, no caldrà que creem els nostres propis objectes de ``PrintStream``."
   ]
  },
  {
   "cell_type": "markdown",
   "id": "473d9eab",
   "metadata": {},
   "source": [
    "> L'objecte des del qual cridarem els mètodes per a imprimir per pantalla, ``print()`` i ``println()``, és un objecte que es troba a una variable anomenada ``out``, que és un atribut estàtic de la classe ``System``.\n",
    "\n",
    "> L'objecte ``out`` representa la sortida estàndard de l'ordinador, que per defecte és la pantalla."
   ]
  },
  {
   "cell_type": "markdown",
   "id": "57aeb239",
   "metadata": {},
   "source": [
    "\n",
    "Per tant, per a imprimir per pantalla escriurem:\n",
    "\n",
    "```java\n",
    "System.out.println(\"Java és fàcil\");\n",
    "System.out.print(\"Més fàcil que no t'ho penses\");\n",
    "```\n",
    "\n",
    "``println()`` fa exactament el mateix que ``print()`` amb una única diferència: ``println()`` afegeix un _salt de línia_ al final (és a dir, la següent impresió per pantalla es farà a la següent línia, mentre que amb ``print()`` es fa a continuació).\n",
    "\n",
    "Prova-ho a continuació:"
   ]
  },
  {
   "cell_type": "code",
   "execution_count": 4,
   "id": "e723323b",
   "metadata": {
    "ExecuteTime": {
     "end_time": "2021-08-26T13:02+0000",
     "start_time": "2021-08-26T13:02:34.064Z"
    }
   },
   "outputs": [
    {
     "name": "stdout",
     "output_type": "stream",
     "text": [
      "Java és fàcil\n",
      "Més fàcil que no t'ho penses"
     ]
    }
   ],
   "source": [
    "System.out.println(\"Java és fàcil\");\n",
    "System.out.print(\"Més fàcil que no t'ho penses\");"
   ]
  },
  {
   "cell_type": "markdown",
   "id": "a4d08713",
   "metadata": {},
   "source": [
    "## Conveni per a noms"
   ]
  },
  {
   "cell_type": "markdown",
   "id": "92a07a8b",
   "metadata": {},
   "source": [
    "Fixeu-vos en els noms que hem escollit donar a les següents classes, mètodes, atributs, paràmetres i variables locals:\n",
    "\n",
    "\n",
    "```java\n",
    "class Salutacio {\n",
    "    \n",
    "    String idiomaDeLesSalutacions = \"Català\";\n",
    "    \n",
    "    //Imprimeix salutacions varies vegades\n",
    "    void imprimeixSalutacions(String salutacio, int numeroRepeticions) {\n",
    "        //continguts del mètode\n",
    "    }\n",
    "    \n",
    "    //Retorna quantes salutacions s'han fet\n",
    "    int trobaNumeroDeSalutacions() {\n",
    "        int numeroDeSalutacions;\n",
    "        \n",
    "        //Calculs\n",
    "        \n",
    "        return numeroDeSalutacions;\n",
    "    }\n",
    "}\n",
    "```"
   ]
  },
  {
   "cell_type": "markdown",
   "id": "e3f264a8",
   "metadata": {},
   "source": [
    "\n",
    "Podeu veure que:\n",
    "\n",
    "a) Són **noms llargs** que segueixen el **coveni [CamelCase](https://ca.wikipedia.org/wiki/CamelCase)**.\n",
    "\n",
    "b) Són **noms autoexplicatius** del propòsit que tenen els elements que anomenen. És a dir, ens dóna una idea més o menys clara de per què serveixen les corresponents classes, mètodes, atributs, etc.\n",
    "\n",
    "Podríem haver escrit el mateix codi fent servir els següents noms, i el programa seguiria funcionant:\n",
    "\n",
    "```java\n",
    "class Sal {\n",
    "    \n",
    "    String idi = \"Català\";\n",
    "    \n",
    "    void prtSal(String s, int n) {\n",
    "        //continguts del mètode\n",
    "    }\n",
    "    \n",
    "    int tNSal() {\n",
    "        int nSal;\n",
    "        \n",
    "        //Calculs\n",
    "        \n",
    "        return nSal;\n",
    "    }\n",
    "}\n",
    "```"
   ]
  },
  {
   "cell_type": "markdown",
   "id": "9fdfe2b6",
   "metadata": {},
   "source": [
    "> Fer servir els noms d'aquest darrer exemple és **anar en contra dels convenis de _bones pràctiques de programació_**, i sempre s'ha d'evitar: crea confusió i **el programa és difícil de mantenir**."
   ]
  },
  {
   "cell_type": "markdown",
   "id": "79137dea",
   "metadata": {},
   "source": [
    "## Exercici resolt"
   ]
  },
  {
   "cell_type": "markdown",
   "id": "652ea798",
   "metadata": {},
   "source": []
  }
 ],
 "metadata": {
  "kernelspec": {
   "display_name": "Java",
   "language": "java",
   "name": "java"
  },
  "language_info": {
   "codemirror_mode": "java",
   "file_extension": ".jshell",
   "mimetype": "text/x-java-source",
   "name": "Java",
   "pygments_lexer": "java",
   "version": "11.0.17+8-LTS"
  },
  "nbTranslate": {
   "displayLangs": [
    "*"
   ],
   "hotkey": "alt-t",
   "langInMainMenu": true,
   "sourceLang": "en",
   "targetLang": "ca",
   "useGoogleTranslate": true
  },
  "toc": {
   "base_numbering": 1,
   "nav_menu": {},
   "number_sections": true,
   "sideBar": true,
   "skip_h1_title": false,
   "title_cell": "Table of Contents",
   "title_sidebar": "Contents",
   "toc_cell": false,
   "toc_position": {},
   "toc_section_display": true,
   "toc_window_display": true
  },
  "varInspector": {
   "cols": {
    "lenName": 16,
    "lenType": 16,
    "lenVar": 40
   },
   "kernels_config": {
    "python": {
     "delete_cmd_postfix": "",
     "delete_cmd_prefix": "del ",
     "library": "var_list.py",
     "varRefreshCmd": "print(var_dic_list())"
    },
    "r": {
     "delete_cmd_postfix": ") ",
     "delete_cmd_prefix": "rm(",
     "library": "var_list.r",
     "varRefreshCmd": "cat(var_dic_list()) "
    }
   },
   "types_to_exclude": [
    "module",
    "function",
    "builtin_function_or_method",
    "instance",
    "_Feature"
   ],
   "window_display": false
  }
 },
 "nbformat": 4,
 "nbformat_minor": 5
}
